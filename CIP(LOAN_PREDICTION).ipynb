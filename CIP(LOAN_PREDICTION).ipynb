{
  "nbformat": 4,
  "nbformat_minor": 0,
  "metadata": {
    "colab": {
      "name": "CIP(LOAN PREDICTION).ipynb",
      "provenance": [],
      "collapsed_sections": []
    },
    "kernelspec": {
      "name": "python3",
      "display_name": "Python 3"
    },
    "language_info": {
      "name": "python"
    }
  },
  "cells": [
    {
      "cell_type": "markdown",
      "metadata": {
        "id": "Fp1cRxzHWD6r"
      },
      "source": [
        "# Loan Approval Prediction"
      ]
    },
    {
      "cell_type": "markdown",
      "metadata": {
        "id": "SzeeVtFEWqDj"
      },
      "source": [
        "# Problem Statement\n",
        "\n",
        "## Business Problem\n",
        "\"Dream Housing Finance company deals in all home loans. They have presence across all urban, semi urban and rural areas. Customer first apply for home loan after that company validates the customer eligibility for loan. Company wants to automate the loan eligibility process (real time) based on customer detail provided while filling online application form. These details are Gender, Marital Status, Education, Number of Dependents, Income, Loan Amount, Credit History and others. To automate this process, they have given a problem to identify the customers segments, those are eligible for loan amount so that they can specifically target these customers.\"\n",
        "Loan prediction is a very common real-life problem that every retail bank faces in their lending operations. If the loan approval process is automated, it can save a lot of man hours and improve the speed of service to the customers. The increase in customer satisfaction and savings in operational costs are significant. However, the benefits can only be reaped if the bank has a robust model to accurately predict which customer's loan it should approve and which to reject, in order to minimize the risk of loan default.\n",
        "\n",
        "##Translate Business Problem into Data Science / Machine Learning problem\n",
        "This is a classification problem where we have to predict whether a loan will be approved or not. Specifically, it is a binary classification problem where we have to predict either one of the two classes given i.e. approved (Y) or not approved (N). Another way to frame the problem is to predict whether the loan will likely to default or not, if it is likely to default, then the loan would not be approved, and vice versa. The dependent variable or target variable is the Loan_Status, while the rest are independent variable or features. We need to develop a model using the features to predict the target variable."
      ]
    },
    {
      "cell_type": "markdown",
      "metadata": {
        "id": "HLMB6rLKXRPd"
      },
      "source": [
        "# Hypothesis Generation\n",
        "\n",
        "Hypothesis Generation is the process of listing out all the possible factors that can affect the outcome i.e. which of the features will have an impact on whether a loan will be approved or not. Some of the hypothesis are:\n",
        "\n",
        "* Education - Applicants with higher education level i.e. graduate level should have higher chances of loan approval\n",
        "* Income: Applicants with higher income should have more chances of loan approval\n",
        "* Loan amount: If the loan amount is less, the chances of loan approval should be high\n",
        "* Loan term: Loans with shorter time period should have higher chances of approval\n",
        "* Previous credit history: Applicants who have repayed their previous debts should have higher chances of loan approval\n",
        "* Monthly installment amount: If the monthly installment amount is low, the chances of loan approval should be high\n",
        "* And so on\n",
        "\n",
        "Some of the hypothesis seem intuitive while others may not. We will try to validate each of these hypothesis based on the dataset.\n",
        "\n",
        "\n",
        "\n"
      ]
    },
    {
      "cell_type": "markdown",
      "metadata": {
        "id": "2n4sF6HuYBti"
      },
      "source": [
        "# Exploratory Data Analysis (EDA)"
      ]
    },
    {
      "cell_type": "code",
      "metadata": {
        "id": "iH_2bxh1VeHJ"
      },
      "source": [
        "# import libraries\n",
        "%matplotlib inline\n",
        "import numpy as np\n",
        "import pandas as pd\n",
        "import matplotlib.pyplot as plt\n",
        "import seaborn as sns\n",
        "import warnings\n",
        "warnings.filterwarnings(\"ignore\")"
      ],
      "execution_count": null,
      "outputs": []
    },
    {
      "cell_type": "code",
      "metadata": {
        "id": "7u4_NcZIYFmN"
      },
      "source": [
        "url = 'https://raw.githubusercontent.com/limchiahooi/loan-approval-prediction/master/train_u6lujuX_CVtuZ9i.csv'\n",
        "train = pd.read_csv(url)\n",
        "\n",
        "url = 'https://raw.githubusercontent.com/limchiahooi/loan-approval-prediction/master/test_Y3wMUE5_7gLdaTN.csv'\n",
        "test = pd.read_csv(url)\n"
      ],
      "execution_count": null,
      "outputs": []
    },
    {
      "cell_type": "code",
      "metadata": {
        "id": "0vBKOfB1YngB"
      },
      "source": [
        "# make a copy of original data\n",
        "# so that even if we have to make any changes in these datasets we would not lose the original datasets\n",
        "\n",
        "train_original = train.copy()\n",
        "test_original = test.copy()"
      ],
      "execution_count": null,
      "outputs": []
    },
    {
      "cell_type": "code",
      "metadata": {
        "colab": {
          "base_uri": "https://localhost:8080/",
          "height": 206
        },
        "id": "6MO6nnFNYr-4",
        "outputId": "909afcf7-7720-4f3f-dd89-7ad0edf6131b"
      },
      "source": [
        "# take a look at the top 5 rows of the train set, notice the column \"Loan_Status\"\n",
        "train.head()"
      ],
      "execution_count": null,
      "outputs": [
        {
          "output_type": "execute_result",
          "data": {
            "text/html": [
              "<div>\n",
              "<style scoped>\n",
              "    .dataframe tbody tr th:only-of-type {\n",
              "        vertical-align: middle;\n",
              "    }\n",
              "\n",
              "    .dataframe tbody tr th {\n",
              "        vertical-align: top;\n",
              "    }\n",
              "\n",
              "    .dataframe thead th {\n",
              "        text-align: right;\n",
              "    }\n",
              "</style>\n",
              "<table border=\"1\" class=\"dataframe\">\n",
              "  <thead>\n",
              "    <tr style=\"text-align: right;\">\n",
              "      <th></th>\n",
              "      <th>Loan_ID</th>\n",
              "      <th>Gender</th>\n",
              "      <th>Married</th>\n",
              "      <th>Dependents</th>\n",
              "      <th>Education</th>\n",
              "      <th>Self_Employed</th>\n",
              "      <th>ApplicantIncome</th>\n",
              "      <th>CoapplicantIncome</th>\n",
              "      <th>LoanAmount</th>\n",
              "      <th>Loan_Amount_Term</th>\n",
              "      <th>Credit_History</th>\n",
              "      <th>Property_Area</th>\n",
              "      <th>Loan_Status</th>\n",
              "    </tr>\n",
              "  </thead>\n",
              "  <tbody>\n",
              "    <tr>\n",
              "      <th>0</th>\n",
              "      <td>LP001002</td>\n",
              "      <td>Male</td>\n",
              "      <td>No</td>\n",
              "      <td>0</td>\n",
              "      <td>Graduate</td>\n",
              "      <td>No</td>\n",
              "      <td>5849</td>\n",
              "      <td>0.0</td>\n",
              "      <td>NaN</td>\n",
              "      <td>360.0</td>\n",
              "      <td>1.0</td>\n",
              "      <td>Urban</td>\n",
              "      <td>Y</td>\n",
              "    </tr>\n",
              "    <tr>\n",
              "      <th>1</th>\n",
              "      <td>LP001003</td>\n",
              "      <td>Male</td>\n",
              "      <td>Yes</td>\n",
              "      <td>1</td>\n",
              "      <td>Graduate</td>\n",
              "      <td>No</td>\n",
              "      <td>4583</td>\n",
              "      <td>1508.0</td>\n",
              "      <td>128.0</td>\n",
              "      <td>360.0</td>\n",
              "      <td>1.0</td>\n",
              "      <td>Rural</td>\n",
              "      <td>N</td>\n",
              "    </tr>\n",
              "    <tr>\n",
              "      <th>2</th>\n",
              "      <td>LP001005</td>\n",
              "      <td>Male</td>\n",
              "      <td>Yes</td>\n",
              "      <td>0</td>\n",
              "      <td>Graduate</td>\n",
              "      <td>Yes</td>\n",
              "      <td>3000</td>\n",
              "      <td>0.0</td>\n",
              "      <td>66.0</td>\n",
              "      <td>360.0</td>\n",
              "      <td>1.0</td>\n",
              "      <td>Urban</td>\n",
              "      <td>Y</td>\n",
              "    </tr>\n",
              "    <tr>\n",
              "      <th>3</th>\n",
              "      <td>LP001006</td>\n",
              "      <td>Male</td>\n",
              "      <td>Yes</td>\n",
              "      <td>0</td>\n",
              "      <td>Not Graduate</td>\n",
              "      <td>No</td>\n",
              "      <td>2583</td>\n",
              "      <td>2358.0</td>\n",
              "      <td>120.0</td>\n",
              "      <td>360.0</td>\n",
              "      <td>1.0</td>\n",
              "      <td>Urban</td>\n",
              "      <td>Y</td>\n",
              "    </tr>\n",
              "    <tr>\n",
              "      <th>4</th>\n",
              "      <td>LP001008</td>\n",
              "      <td>Male</td>\n",
              "      <td>No</td>\n",
              "      <td>0</td>\n",
              "      <td>Graduate</td>\n",
              "      <td>No</td>\n",
              "      <td>6000</td>\n",
              "      <td>0.0</td>\n",
              "      <td>141.0</td>\n",
              "      <td>360.0</td>\n",
              "      <td>1.0</td>\n",
              "      <td>Urban</td>\n",
              "      <td>Y</td>\n",
              "    </tr>\n",
              "  </tbody>\n",
              "</table>\n",
              "</div>"
            ],
            "text/plain": [
              "    Loan_ID Gender Married  ... Credit_History Property_Area Loan_Status\n",
              "0  LP001002   Male      No  ...            1.0         Urban           Y\n",
              "1  LP001003   Male     Yes  ...            1.0         Rural           N\n",
              "2  LP001005   Male     Yes  ...            1.0         Urban           Y\n",
              "3  LP001006   Male     Yes  ...            1.0         Urban           Y\n",
              "4  LP001008   Male      No  ...            1.0         Urban           Y\n",
              "\n",
              "[5 rows x 13 columns]"
            ]
          },
          "metadata": {
            "tags": []
          },
          "execution_count": 4
        }
      ]
    },
    {
      "cell_type": "code",
      "metadata": {
        "colab": {
          "base_uri": "https://localhost:8080/",
          "height": 206
        },
        "id": "wQkfDo1AYvWn",
        "outputId": "4520ec66-6d2e-42ae-a8bf-2469e1bfdb33"
      },
      "source": [
        "# take a look at the top 5 rows of the test set, notice the absense of \"Loan_Status\" that we will predict\n",
        "test.head()"
      ],
      "execution_count": null,
      "outputs": [
        {
          "output_type": "execute_result",
          "data": {
            "text/html": [
              "<div>\n",
              "<style scoped>\n",
              "    .dataframe tbody tr th:only-of-type {\n",
              "        vertical-align: middle;\n",
              "    }\n",
              "\n",
              "    .dataframe tbody tr th {\n",
              "        vertical-align: top;\n",
              "    }\n",
              "\n",
              "    .dataframe thead th {\n",
              "        text-align: right;\n",
              "    }\n",
              "</style>\n",
              "<table border=\"1\" class=\"dataframe\">\n",
              "  <thead>\n",
              "    <tr style=\"text-align: right;\">\n",
              "      <th></th>\n",
              "      <th>Loan_ID</th>\n",
              "      <th>Gender</th>\n",
              "      <th>Married</th>\n",
              "      <th>Dependents</th>\n",
              "      <th>Education</th>\n",
              "      <th>Self_Employed</th>\n",
              "      <th>ApplicantIncome</th>\n",
              "      <th>CoapplicantIncome</th>\n",
              "      <th>LoanAmount</th>\n",
              "      <th>Loan_Amount_Term</th>\n",
              "      <th>Credit_History</th>\n",
              "      <th>Property_Area</th>\n",
              "    </tr>\n",
              "  </thead>\n",
              "  <tbody>\n",
              "    <tr>\n",
              "      <th>0</th>\n",
              "      <td>LP001015</td>\n",
              "      <td>Male</td>\n",
              "      <td>Yes</td>\n",
              "      <td>0</td>\n",
              "      <td>Graduate</td>\n",
              "      <td>No</td>\n",
              "      <td>5720</td>\n",
              "      <td>0</td>\n",
              "      <td>110.0</td>\n",
              "      <td>360.0</td>\n",
              "      <td>1.0</td>\n",
              "      <td>Urban</td>\n",
              "    </tr>\n",
              "    <tr>\n",
              "      <th>1</th>\n",
              "      <td>LP001022</td>\n",
              "      <td>Male</td>\n",
              "      <td>Yes</td>\n",
              "      <td>1</td>\n",
              "      <td>Graduate</td>\n",
              "      <td>No</td>\n",
              "      <td>3076</td>\n",
              "      <td>1500</td>\n",
              "      <td>126.0</td>\n",
              "      <td>360.0</td>\n",
              "      <td>1.0</td>\n",
              "      <td>Urban</td>\n",
              "    </tr>\n",
              "    <tr>\n",
              "      <th>2</th>\n",
              "      <td>LP001031</td>\n",
              "      <td>Male</td>\n",
              "      <td>Yes</td>\n",
              "      <td>2</td>\n",
              "      <td>Graduate</td>\n",
              "      <td>No</td>\n",
              "      <td>5000</td>\n",
              "      <td>1800</td>\n",
              "      <td>208.0</td>\n",
              "      <td>360.0</td>\n",
              "      <td>1.0</td>\n",
              "      <td>Urban</td>\n",
              "    </tr>\n",
              "    <tr>\n",
              "      <th>3</th>\n",
              "      <td>LP001035</td>\n",
              "      <td>Male</td>\n",
              "      <td>Yes</td>\n",
              "      <td>2</td>\n",
              "      <td>Graduate</td>\n",
              "      <td>No</td>\n",
              "      <td>2340</td>\n",
              "      <td>2546</td>\n",
              "      <td>100.0</td>\n",
              "      <td>360.0</td>\n",
              "      <td>NaN</td>\n",
              "      <td>Urban</td>\n",
              "    </tr>\n",
              "    <tr>\n",
              "      <th>4</th>\n",
              "      <td>LP001051</td>\n",
              "      <td>Male</td>\n",
              "      <td>No</td>\n",
              "      <td>0</td>\n",
              "      <td>Not Graduate</td>\n",
              "      <td>No</td>\n",
              "      <td>3276</td>\n",
              "      <td>0</td>\n",
              "      <td>78.0</td>\n",
              "      <td>360.0</td>\n",
              "      <td>1.0</td>\n",
              "      <td>Urban</td>\n",
              "    </tr>\n",
              "  </tbody>\n",
              "</table>\n",
              "</div>"
            ],
            "text/plain": [
              "    Loan_ID Gender Married  ... Loan_Amount_Term Credit_History Property_Area\n",
              "0  LP001015   Male     Yes  ...            360.0            1.0         Urban\n",
              "1  LP001022   Male     Yes  ...            360.0            1.0         Urban\n",
              "2  LP001031   Male     Yes  ...            360.0            1.0         Urban\n",
              "3  LP001035   Male     Yes  ...            360.0            NaN         Urban\n",
              "4  LP001051   Male      No  ...            360.0            1.0         Urban\n",
              "\n",
              "[5 rows x 12 columns]"
            ]
          },
          "metadata": {
            "tags": []
          },
          "execution_count": 5
        }
      ]
    },
    {
      "cell_type": "code",
      "metadata": {
        "colab": {
          "base_uri": "https://localhost:8080/"
        },
        "id": "LjtRdSRTYznd",
        "outputId": "3323060f-553f-4cfa-8d95-5607d9823ffc"
      },
      "source": [
        "# show the shape of the dataset i.e. no of rows, no of columns\n",
        "train.shape, test.shape"
      ],
      "execution_count": null,
      "outputs": [
        {
          "output_type": "execute_result",
          "data": {
            "text/plain": [
              "((614, 13), (367, 12))"
            ]
          },
          "metadata": {
            "tags": []
          },
          "execution_count": 6
        }
      ]
    },
    {
      "cell_type": "code",
      "metadata": {
        "colab": {
          "base_uri": "https://localhost:8080/"
        },
        "id": "QLlWOOO_Y3Ph",
        "outputId": "865437a1-640b-4c14-c586-ca0eecb46bc0"
      },
      "source": [
        "# calculate train-test-split ratio\n",
        "train.shape[0]/(train.shape[0]+test.shape[0]), test.shape[0]/(train.shape[0]+test.shape[0])"
      ],
      "execution_count": null,
      "outputs": [
        {
          "output_type": "execute_result",
          "data": {
            "text/plain": [
              "(0.6258919469928644, 0.37410805300713557)"
            ]
          },
          "metadata": {
            "tags": []
          },
          "execution_count": 7
        }
      ]
    },
    {
      "cell_type": "code",
      "metadata": {
        "colab": {
          "base_uri": "https://localhost:8080/"
        },
        "id": "iLPIqaMvY8hj",
        "outputId": "84ac3d36-fc77-456b-ceaa-a21bdd23f66a"
      },
      "source": [
        "# take a look at the features (i.e. independent variables) in the dataset\n",
        "train.columns, test.columns"
      ],
      "execution_count": null,
      "outputs": [
        {
          "output_type": "execute_result",
          "data": {
            "text/plain": [
              "(Index(['Loan_ID', 'Gender', 'Married', 'Dependents', 'Education',\n",
              "        'Self_Employed', 'ApplicantIncome', 'CoapplicantIncome', 'LoanAmount',\n",
              "        'Loan_Amount_Term', 'Credit_History', 'Property_Area', 'Loan_Status'],\n",
              "       dtype='object'),\n",
              " Index(['Loan_ID', 'Gender', 'Married', 'Dependents', 'Education',\n",
              "        'Self_Employed', 'ApplicantIncome', 'CoapplicantIncome', 'LoanAmount',\n",
              "        'Loan_Amount_Term', 'Credit_History', 'Property_Area'],\n",
              "       dtype='object'))"
            ]
          },
          "metadata": {
            "tags": []
          },
          "execution_count": 8
        }
      ]
    },
    {
      "cell_type": "markdown",
      "metadata": {
        "id": "w61DGjNMZCp8"
      },
      "source": [
        "*Note: * There are 13 columns of features and 614 rows of records in the train set and 12 columns of features and 367 rows of records in the test set. There are a total of 981 records combining both train and test set, representing a train-test-split of approx 63% and 37%. The features are similar in the test set as the train data except the Loan_Status. We will predict the Loan_Status using the model built using the train data."
      ]
    },
    {
      "cell_type": "code",
      "metadata": {
        "colab": {
          "base_uri": "https://localhost:8080/"
        },
        "id": "YoyH7_ivY_eQ",
        "outputId": "6927f301-4edd-405a-f178-cc76f1c61e5b"
      },
      "source": [
        "# show the data types for each column of the train set\n",
        "train.dtypes"
      ],
      "execution_count": null,
      "outputs": [
        {
          "output_type": "execute_result",
          "data": {
            "text/plain": [
              "Loan_ID               object\n",
              "Gender                object\n",
              "Married               object\n",
              "Dependents            object\n",
              "Education             object\n",
              "Self_Employed         object\n",
              "ApplicantIncome        int64\n",
              "CoapplicantIncome    float64\n",
              "LoanAmount           float64\n",
              "Loan_Amount_Term     float64\n",
              "Credit_History       float64\n",
              "Property_Area         object\n",
              "Loan_Status           object\n",
              "dtype: object"
            ]
          },
          "metadata": {
            "tags": []
          },
          "execution_count": 9
        }
      ]
    },
    {
      "cell_type": "code",
      "metadata": {
        "colab": {
          "base_uri": "https://localhost:8080/"
        },
        "id": "fL2KGdfuZIGk",
        "outputId": "b606a844-4286-4c45-fb59-9b6976d6a21d"
      },
      "source": [
        "# concise summary of the dataset, info about index dtype, column dtypes, non-null values and memory usage\n",
        "train.info()"
      ],
      "execution_count": null,
      "outputs": [
        {
          "output_type": "stream",
          "text": [
            "<class 'pandas.core.frame.DataFrame'>\n",
            "RangeIndex: 614 entries, 0 to 613\n",
            "Data columns (total 13 columns):\n",
            " #   Column             Non-Null Count  Dtype  \n",
            "---  ------             --------------  -----  \n",
            " 0   Loan_ID            614 non-null    object \n",
            " 1   Gender             601 non-null    object \n",
            " 2   Married            611 non-null    object \n",
            " 3   Dependents         599 non-null    object \n",
            " 4   Education          614 non-null    object \n",
            " 5   Self_Employed      582 non-null    object \n",
            " 6   ApplicantIncome    614 non-null    int64  \n",
            " 7   CoapplicantIncome  614 non-null    float64\n",
            " 8   LoanAmount         592 non-null    float64\n",
            " 9   Loan_Amount_Term   600 non-null    float64\n",
            " 10  Credit_History     564 non-null    float64\n",
            " 11  Property_Area      614 non-null    object \n",
            " 12  Loan_Status        614 non-null    object \n",
            "dtypes: float64(4), int64(1), object(8)\n",
            "memory usage: 62.5+ KB\n"
          ],
          "name": "stdout"
        }
      ]
    },
    {
      "cell_type": "markdown",
      "metadata": {
        "id": "Ih2bLQYtZXFM"
      },
      "source": [
        "*Note: * There are 3 data types in the data\n",
        "* object: Object format means variables are categorical. Categorical variables in our dataset are: Loan_ID, Gender, Married, Dependents, Education, Self_Employed, Property_Area, Loan_Status\n",
        "* int64: It represents the integer variables. ApplicantIncome is of this format.\n",
        "* float64: It represents the variable which have some decimal values involved. They are also numerical variables. Numerical variables in our dataset are: CoapplicantIncome, LoanAmount, Loan_Amount_Term, and Credit_History\n",
        "\n",
        "Why Data Types are important?\n",
        "Datatypes are an important concept because statistical methods can only be used with certain data types. You have to analyze continuous data differently than categorical data otherwise it would result in a wrong analysis. Therefore knowing the types of data you are dealing with, enables you to choose the correct method of analysis."
      ]
    },
    {
      "cell_type": "markdown",
      "metadata": {
        "id": "GZjYAJBIZhMf"
      },
      "source": [
        "# Univariate analysis\n",
        "Univariate analysis is when we analyze each variable individually. For categorical features we can use frequency table or bar plots which will calculate the number of each category in a particular variable. For numerical features, a histogram or a box-plot can be used to look at the distribution of the variable. With a histogram, you can check the central tendency, variability, modality, and kurtosis of a distribution. Note that a histogram can’t show you if you have any outliers. This is why we also use box-plots.\n",
        "\n",
        "# Target Variable (Categorical)\n",
        "We will first look at the target variable, i.e., Loan_Status. As it is a categorical variable, let us look at its frequency table, percentage distribution and bar plot."
      ]
    },
    {
      "cell_type": "code",
      "metadata": {
        "colab": {
          "base_uri": "https://localhost:8080/"
        },
        "id": "Jx6dg_bIZfAv",
        "outputId": "335c05cb-498f-4094-dcfc-2e16a4542ba3"
      },
      "source": [
        "# frequency table of a variable will give us the count of each category in that variable\n",
        "train['Loan_Status'].value_counts()"
      ],
      "execution_count": null,
      "outputs": [
        {
          "output_type": "execute_result",
          "data": {
            "text/plain": [
              "Y    422\n",
              "N    192\n",
              "Name: Loan_Status, dtype: int64"
            ]
          },
          "metadata": {
            "tags": []
          },
          "execution_count": 11
        }
      ]
    },
    {
      "cell_type": "code",
      "metadata": {
        "colab": {
          "base_uri": "https://localhost:8080/"
        },
        "id": "wotkQX6PZxjd",
        "outputId": "7fd6f2bf-9158-4ce1-f925-8fe6ee425c6b"
      },
      "source": [
        "# percentage distribution can be calculated by setting the normalize=True to show proportions instead of number \n",
        "train['Loan_Status'].value_counts(normalize=True)"
      ],
      "execution_count": null,
      "outputs": [
        {
          "output_type": "execute_result",
          "data": {
            "text/plain": [
              "Y    0.687296\n",
              "N    0.312704\n",
              "Name: Loan_Status, dtype: float64"
            ]
          },
          "metadata": {
            "tags": []
          },
          "execution_count": 12
        }
      ]
    },
    {
      "cell_type": "code",
      "metadata": {
        "colab": {
          "base_uri": "https://localhost:8080/",
          "height": 280
        },
        "id": "Vc0YD1ndZ0DZ",
        "outputId": "4cfc54a4-3479-435c-c3c4-26e4ef3c8c62"
      },
      "source": [
        "# bar plot to visualize the frequency\n",
        "train['Loan_Status'].value_counts().plot.bar()"
      ],
      "execution_count": null,
      "outputs": [
        {
          "output_type": "execute_result",
          "data": {
            "text/plain": [
              "<matplotlib.axes._subplots.AxesSubplot at 0x7f21a3979f50>"
            ]
          },
          "metadata": {
            "tags": []
          },
          "execution_count": 13
        },
        {
          "output_type": "display_data",
          "data": {
            "image/png": "[encoded data removed]",
            "text/plain": [
              "<Figure size 432x288 with 1 Axes>"
            ]
          },
          "metadata": {
            "tags": [],
            "needs_background": "light"
          }
        }
      ]
    },
    {
      "cell_type": "markdown",
      "metadata": {
        "id": "H-_drW_LZ7Vq"
      },
      "source": [
        "*Note: * The loan of 422 (around 69%) people out of 614 was approved. There is no imbalanced classes issue in this dataset, thus accuracy as an evaluation metric should be appropriate. On the other hand, if there are imbalanced or skewed classes, then we might need to use precision and recall as evaluation metrics."
      ]
    },
    {
      "cell_type": "markdown",
      "metadata": {
        "id": "BsACyMUOZ97n"
      },
      "source": [
        "# Independent Variable (Categorical)\n",
        "There are 5 features that are categorical or binary (Gender, Married, Self_Employed, Credit_History, Education)"
      ]
    },
    {
      "cell_type": "code",
      "metadata": {
        "colab": {
          "base_uri": "https://localhost:8080/",
          "height": 665
        },
        "id": "92uO1V1oZ8NL",
        "outputId": "56391b92-65e7-42e0-a4fd-c0e2f6cc723e"
      },
      "source": [
        "# Visualizing categorical features\n",
        "# plt.figure(1)\n",
        "plt.subplot(231)\n",
        "train['Gender'].value_counts(normalize=True).plot.bar(figsize=(20,10), title= 'Gender')\n",
        "\n",
        "plt.subplot(232)\n",
        "train['Married'].value_counts(normalize=True).plot.bar(title= 'Married')\n",
        "\n",
        "plt.subplot(233)\n",
        "train['Self_Employed'].value_counts(normalize=True).plot.bar(title= 'Self_Employed')\n",
        "\n",
        "plt.subplot(234)\n",
        "train['Credit_History'].value_counts(normalize=True).plot.bar(title= 'Credit_History')\n",
        "\n",
        "plt.subplot(235)\n",
        "train['Education'].value_counts(normalize=True).plot.bar(title= 'Education')\n",
        "\n",
        "plt.show()"
      ],
      "execution_count": null,
      "outputs": [
        {
          "output_type": "display_data",
          "data": {
            "image/png": "[encoded data removed]",
            "text/plain": [
              "<Figure size 1440x720 with 5 Axes>"
            ]
          },
          "metadata": {
            "tags": [],
            "needs_background": "light"
          }
        }
      ]
    },
    {
      "cell_type": "markdown",
      "metadata": {
        "id": "2xh8ivhGaOyp"
      },
      "source": [
        "It can be inferred from the above bar plots that:\n",
        "80% applicants in the dataset are male.\n",
        "Around 65% of the applicants in the dataset are married.\n",
        "Around 15% applicants in the dataset are self employed.\n",
        "Around 85% applicants have credit history (repaid their debts).\n",
        "Around 80% of the applicants are Graduate.\n",
        "\n",
        "# Independent Variable (Ordinal)\n",
        "There are 2 features that are Ordinal: Variables in categorical features having some order involved (Dependents, Property_Area)"
      ]
    },
    {
      "cell_type": "code",
      "metadata": {
        "colab": {
          "base_uri": "https://localhost:8080/",
          "height": 325
        },
        "id": "_-pe4fLzaTUM",
        "outputId": "710b7523-cb04-4212-a55d-9b37d8ae3b7e"
      },
      "source": [
        "# Visualizing remaining categorical features\n",
        "# plt.figure(1)\n",
        "plt.subplot(121)\n",
        "train['Dependents'].value_counts(normalize=True).plot.bar(figsize=(12,4), title= 'Dependents')\n",
        "\n",
        "plt.subplot(122)\n",
        "train['Property_Area'].value_counts(normalize=True).plot.bar(title= 'Property_Area')\n",
        "\n",
        "plt.show()"
      ],
      "execution_count": null,
      "outputs": [
        {
          "output_type": "display_data",
          "data": {
            "image/png": "[encoded data removed]",
            "text/plain": [
              "<Figure size 864x288 with 2 Axes>"
            ]
          },
          "metadata": {
            "tags": [],
            "needs_background": "light"
          }
        }
      ]
    },
    {
      "cell_type": "markdown",
      "metadata": {
        "id": "2CPMSoxmaiiu"
      },
      "source": [
        "Following inferences can be made from the above bar plots:\n",
        "More than half of the applicants don’t have any dependents.\n",
        "Most of the applicants are from Semiurban area."
      ]
    },
    {
      "cell_type": "markdown",
      "metadata": {
        "id": "k_onPFq3ambk"
      },
      "source": [
        "# Independent Variable (Numerical)\n",
        "There are 4 features that are Numerical: These features have numerical values (ApplicantIncome, CoapplicantIncome, LoanAmount, Loan_Amount_Term)\n",
        "\n",
        "Firstly, let’s look at the Applicant income distribution:\n"
      ]
    },
    {
      "cell_type": "code",
      "metadata": {
        "colab": {
          "base_uri": "https://localhost:8080/",
          "height": 333
        },
        "id": "ODg4RGIGajFl",
        "outputId": "837387fa-6d68-4cfb-d37b-64b545000134"
      },
      "source": [
        "# Visualizing ApplicantIncome\n",
        "# plt.figure(1)\n",
        "plt.subplot(121)\n",
        "sns.distplot(train['ApplicantIncome']);\n",
        "\n",
        "plt.subplot(122)\n",
        "train['ApplicantIncome'].plot.box(figsize=(16,5))\n",
        "\n",
        "plt.show()"
      ],
      "execution_count": null,
      "outputs": [
        {
          "output_type": "display_data",
          "data": {
            "image/png": "[encoded data removed]",
            "text/plain": [
              "<Figure size 1152x360 with 2 Axes>"
            ]
          },
          "metadata": {
            "tags": [],
            "needs_background": "light"
          }
        }
      ]
    },
    {
      "cell_type": "markdown",
      "metadata": {
        "id": "scqTRiKRa3io"
      },
      "source": [
        "It can be inferred that most of the data in the distribution of applicant income is towards left which means it is not normally distributed. The distribution is right-skewed (positive skewness). We will try to make it normal in later sections as algorithms works better if the data is normally distributed.\n",
        "\n",
        "The boxplot confirms the presence of a lot of outliers/extreme values. This can be attributed to the income disparity in the society. Part of this can be driven by the fact that we are looking at people with different education levels. Let us segregate them by Education:"
      ]
    },
    {
      "cell_type": "code",
      "metadata": {
        "colab": {
          "base_uri": "https://localhost:8080/",
          "height": 310
        },
        "id": "3ItOkmoFa13F",
        "outputId": "8689f2ce-a36f-4daa-d69b-7ace3ca8de22"
      },
      "source": [
        "train.boxplot(column='ApplicantIncome', by = 'Education')\n",
        "plt.suptitle(\"\")"
      ],
      "execution_count": null,
      "outputs": [
        {
          "output_type": "execute_result",
          "data": {
            "text/plain": [
              "Text(0.5, 0.98, '')"
            ]
          },
          "metadata": {
            "tags": []
          },
          "execution_count": 19
        },
        {
          "output_type": "display_data",
          "data": {
            "image/png": "[encoded data removed]",
            "text/plain": [
              "<Figure size 432x288 with 1 Axes>"
            ]
          },
          "metadata": {
            "tags": [],
            "needs_background": "light"
          }
        }
      ]
    },
    {
      "cell_type": "markdown",
      "metadata": {
        "id": "Otoy7O9ibAnE"
      },
      "source": [
        "We can see that there are a higher number of graduates with very high incomes, which are appearing to be the outliers.\n",
        "\n",
        "Secondly, Let’s look at the Coapplicant income distribution."
      ]
    },
    {
      "cell_type": "code",
      "metadata": {
        "colab": {
          "base_uri": "https://localhost:8080/",
          "height": 333
        },
        "id": "prGwmnP1a-F1",
        "outputId": "e6f7fc09-5fbc-43a2-a218-ef9c9439bcc7"
      },
      "source": [
        "# plt.figure(1)\n",
        "plt.subplot(121)\n",
        "sns.distplot(train['CoapplicantIncome']);\n",
        "\n",
        "plt.subplot(122)\n",
        "train['CoapplicantIncome'].plot.box(figsize=(16,5))\n",
        "\n",
        "plt.show()"
      ],
      "execution_count": null,
      "outputs": [
        {
          "output_type": "display_data",
          "data": {
            "image/png": "[encoded data removed]",
            "text/plain": [
              "<Figure size 1152x360 with 2 Axes>"
            ]
          },
          "metadata": {
            "tags": [],
            "needs_background": "light"
          }
        }
      ]
    },
    {
      "cell_type": "markdown",
      "metadata": {
        "id": "AORld7gebGTs"
      },
      "source": [
        "We see a similar distribution as that of the applicant income. Majority of coapplicant’s income ranges from 0 to 5000. We also see a lot of outliers in the coapplicant income and it is not normally distributed.\n",
        "\n",
        "Thirdly, let’s look at the distribution of LoanAmount variable."
      ]
    },
    {
      "cell_type": "code",
      "metadata": {
        "colab": {
          "base_uri": "https://localhost:8080/",
          "height": 333
        },
        "id": "Si8wLSBjbLA2",
        "outputId": "f1d6c1b4-5de6-4c9d-b257-d256a6ef12a7"
      },
      "source": [
        "# plt.figure(1)\n",
        "plt.subplot(121)\n",
        "df=train.dropna()\n",
        "sns.distplot(df['LoanAmount']);\n",
        "\n",
        "plt.subplot(122)\n",
        "train['LoanAmount'].plot.box(figsize=(16,5))\n",
        "\n",
        "plt.show()"
      ],
      "execution_count": null,
      "outputs": [
        {
          "output_type": "display_data",
          "data": {
            "image/png": "[encoded data removed]",
            "text/plain": [
              "<Figure size 1152x360 with 2 Axes>"
            ]
          },
          "metadata": {
            "tags": [],
            "needs_background": "light"
          }
        }
      ]
    },
    {
      "cell_type": "markdown",
      "metadata": {
        "id": "j_u3WxqPbPtF"
      },
      "source": [
        "We see a fairly normal distribution (albeit still slightly right-skewed) for LoanAmount but there are lot of outliers in this variable. We will treat the outliers in later sections.\n",
        "\n",
        "Lastly, let’s look at the distribution of Loan_Amount_Term variable. Since Loan_Amount_Term is a discrete variable, we will use frequency table and bar plots which will calculate the number of each category."
      ]
    },
    {
      "cell_type": "code",
      "metadata": {
        "colab": {
          "base_uri": "https://localhost:8080/"
        },
        "id": "wTMc1pfMbTjC",
        "outputId": "edd22f18-6e50-4bac-9ca2-3a94b1c34f7e"
      },
      "source": [
        "# frequency table of a variable will give us the count of each category in that variable\n",
        "train['Loan_Amount_Term'].value_counts()"
      ],
      "execution_count": null,
      "outputs": [
        {
          "output_type": "execute_result",
          "data": {
            "text/plain": [
              "360.0    512\n",
              "180.0     44\n",
              "480.0     15\n",
              "300.0     13\n",
              "84.0       4\n",
              "240.0      4\n",
              "120.0      3\n",
              "36.0       2\n",
              "60.0       2\n",
              "12.0       1\n",
              "Name: Loan_Amount_Term, dtype: int64"
            ]
          },
          "metadata": {
            "tags": []
          },
          "execution_count": 22
        }
      ]
    },
    {
      "cell_type": "code",
      "metadata": {
        "colab": {
          "base_uri": "https://localhost:8080/",
          "height": 317
        },
        "id": "20rZvkxnbXVD",
        "outputId": "3a149fe8-d69a-40cc-fbd9-fe471e3b9f36"
      },
      "source": [
        "# plot bar chart\n",
        "train['Loan_Amount_Term'].value_counts(normalize=True).plot.bar(title= 'Loan_Amount_Term')"
      ],
      "execution_count": null,
      "outputs": [
        {
          "output_type": "execute_result",
          "data": {
            "text/plain": [
              "<matplotlib.axes._subplots.AxesSubplot at 0x7f21a0bdef50>"
            ]
          },
          "metadata": {
            "tags": []
          },
          "execution_count": 23
        },
        {
          "output_type": "display_data",
          "data": {
            "image/png": "[encoded data removed]",
            "text/plain": [
              "<Figure size 432x288 with 1 Axes>"
            ]
          },
          "metadata": {
            "tags": [],
            "needs_background": "light"
          }
        }
      ]
    },
    {
      "cell_type": "markdown",
      "metadata": {
        "id": "YEDHZ4wybcV2"
      },
      "source": [
        "It can be inferred from the above bar plot that:\n",
        "\n",
        "* Around 85% of the loans are 360 months term or 30 years period\n",
        "\n",
        "Now we would like to know how well each feature correlate with Loan Status. So, in the next section we will look at bivariate analysis."
      ]
    },
    {
      "cell_type": "markdown",
      "metadata": {
        "id": "gQnhJwc2bf9f"
      },
      "source": [
        "# Bivariate Analysis\n",
        "After looking at every variable individually in univariate analysis, we will now explore them again with respect to the target variable in bivariate analysis. We can use bivariate analysis to test the hypotheses that we generated earlier.\n",
        "# Categorical Independent Variable vs Target Variable\n",
        "First of all we will find the relation between target variable and categorical independent variables. Let us look at the stacked bar plot now which will give us the proportion of approved and unapproved loans. For example, we want to see whether an applicant's gender will have any effect on approval chances."
      ]
    },
    {
      "cell_type": "code",
      "metadata": {
        "colab": {
          "base_uri": "https://localhost:8080/",
          "height": 374
        },
        "id": "GYYQNchpbjw5",
        "outputId": "6c2e6486-ca77-45aa-a0ee-256e029e6dda"
      },
      "source": [
        "print(pd.crosstab(train['Gender'],train['Loan_Status']))\n",
        "\n",
        "Gender = pd.crosstab(train['Gender'],train['Loan_Status'])\n",
        "Gender.div(Gender.sum(1).astype(float), axis = 0).plot(kind=\"bar\", stacked=True, figsize=(4,4))\n",
        "plt.xlabel('Gender')\n",
        "p = plt.ylabel('Percentage')"
      ],
      "execution_count": null,
      "outputs": [
        {
          "output_type": "stream",
          "text": [
            "Loan_Status    N    Y\n",
            "Gender               \n",
            "Female        37   75\n",
            "Male         150  339\n"
          ],
          "name": "stdout"
        },
        {
          "output_type": "display_data",
          "data": {
            "image/png": "[encoded data removed]",
            "text/plain": [
              "<Figure size 288x288 with 1 Axes>"
            ]
          },
          "metadata": {
            "tags": [],
            "needs_background": "light"
          }
        }
      ]
    },
    {
      "cell_type": "code",
      "metadata": {
        "colab": {
          "base_uri": "https://localhost:8080/",
          "height": 388
        },
        "id": "iGablyorbn_o",
        "outputId": "82614e53-5e6a-422b-bd2a-0bec0d296821"
      },
      "source": [
        "print(pd.crosstab(train['Dependents'],train['Loan_Status']))\n",
        "\n",
        "Dependents=pd.crosstab(train['Dependents'],train['Loan_Status'])\n",
        "Dependents.div(Dependents.sum(1).astype(float), axis=0).plot(kind=\"bar\", stacked=True)\n",
        "plt.xlabel('Dependents')\n",
        "p = plt.ylabel('Percentage')"
      ],
      "execution_count": null,
      "outputs": [
        {
          "output_type": "stream",
          "text": [
            "Loan_Status    N    Y\n",
            "Dependents           \n",
            "0            107  238\n",
            "1             36   66\n",
            "2             25   76\n",
            "3+            18   33\n"
          ],
          "name": "stdout"
        },
        {
          "output_type": "display_data",
          "data": {
            "image/png": "[encoded data removed]",
            "text/plain": [
              "<Figure size 432x288 with 1 Axes>"
            ]
          },
          "metadata": {
            "tags": [],
            "needs_background": "light"
          }
        }
      ]
    },
    {
      "cell_type": "code",
      "metadata": {
        "colab": {
          "base_uri": "https://localhost:8080/",
          "height": 406
        },
        "id": "aHMetAY5bsSL",
        "outputId": "ee1a6c10-380e-4bd4-d664-8909b00f3b5d"
      },
      "source": [
        "print(pd.crosstab(train['Education'],train['Loan_Status']))\n",
        "\n",
        "Education=pd.crosstab(train['Education'],train['Loan_Status'])\n",
        "Education.div(Education.sum(1).astype(float), axis=0).plot(kind=\"bar\", stacked=True, figsize=(4,4))\n",
        "plt.xlabel('Education')\n",
        "p = plt.ylabel('Percentage')"
      ],
      "execution_count": null,
      "outputs": [
        {
          "output_type": "stream",
          "text": [
            "Loan_Status     N    Y\n",
            "Education             \n",
            "Graduate      140  340\n",
            "Not Graduate   52   82\n"
          ],
          "name": "stdout"
        },
        {
          "output_type": "display_data",
          "data": {
            "image/png": "[encoded data removed]",
            "text/plain": [
              "<Figure size 288x288 with 1 Axes>"
            ]
          },
          "metadata": {
            "tags": [],
            "needs_background": "light"
          }
        }
      ]
    },
    {
      "cell_type": "code",
      "metadata": {
        "colab": {
          "base_uri": "https://localhost:8080/",
          "height": 354
        },
        "id": "_FkIn0vjbxb7",
        "outputId": "bfbb2ab5-8866-48a6-dc20-c99efee33b13"
      },
      "source": [
        "print(pd.crosstab(train['Self_Employed'],train['Loan_Status']))\n",
        "\n",
        "Self_Employed=pd.crosstab(train['Self_Employed'],train['Loan_Status'])\n",
        "Self_Employed.div(Self_Employed.sum(1).astype(float), axis=0).plot(kind=\"bar\", stacked=True, figsize=(4,4))\n",
        "plt.xlabel('Self_Employed')\n",
        "p = plt.ylabel('Percentage')"
      ],
      "execution_count": null,
      "outputs": [
        {
          "output_type": "stream",
          "text": [
            "Loan_Status      N    Y\n",
            "Self_Employed          \n",
            "No             157  343\n",
            "Yes             26   56\n"
          ],
          "name": "stdout"
        },
        {
          "output_type": "display_data",
          "data": {
            "image/png": "[encoded data removed]",
            "text/plain": [
              "<Figure size 288x288 with 1 Axes>"
            ]
          },
          "metadata": {
            "tags": [],
            "needs_background": "light"
          }
        }
      ]
    },
    {
      "cell_type": "code",
      "metadata": {
        "colab": {
          "base_uri": "https://localhost:8080/",
          "height": 354
        },
        "id": "0iUxwEpcb1Gl",
        "outputId": "4d9a2767-c30a-47bf-8b0a-1a8c573d38ae"
      },
      "source": [
        "print(pd.crosstab(train['Credit_History'],train['Loan_Status']))\n",
        "\n",
        "Credit_History=pd.crosstab(train['Credit_History'],train['Loan_Status'])\n",
        "Credit_History.div(Credit_History.sum(1).astype(float), axis=0).plot(kind=\"bar\", stacked=True, figsize=(4,4))\n",
        "plt.xlabel('Credit_History')\n",
        "p = plt.ylabel('Percentage')"
      ],
      "execution_count": null,
      "outputs": [
        {
          "output_type": "stream",
          "text": [
            "Loan_Status      N    Y\n",
            "Credit_History         \n",
            "0.0             82    7\n",
            "1.0             97  378\n"
          ],
          "name": "stdout"
        },
        {
          "output_type": "display_data",
          "data": {
            "image/png": "[encoded data removed]",
            "text/plain": [
              "<Figure size 288x288 with 1 Axes>"
            ]
          },
          "metadata": {
            "tags": [],
            "needs_background": "light"
          }
        }
      ]
    },
    {
      "cell_type": "code",
      "metadata": {
        "colab": {
          "base_uri": "https://localhost:8080/",
          "height": 410
        },
        "id": "pNyC3SGdb3WS",
        "outputId": "7a11f28e-8e5c-4d0e-878e-87f54a73ddaf"
      },
      "source": [
        "print(pd.crosstab(train['Property_Area'],train['Loan_Status']))\n",
        "\n",
        "Property_Area=pd.crosstab(train['Property_Area'],train['Loan_Status'])\n",
        "Property_Area.div(Property_Area.sum(1).astype(float), axis=0).plot(kind=\"bar\", stacked=True)\n",
        "plt.xlabel('Property_Area')\n",
        "P = plt.ylabel('Percentage')"
      ],
      "execution_count": null,
      "outputs": [
        {
          "output_type": "stream",
          "text": [
            "Loan_Status     N    Y\n",
            "Property_Area         \n",
            "Rural          69  110\n",
            "Semiurban      54  179\n",
            "Urban          69  133\n"
          ],
          "name": "stdout"
        },
        {
          "output_type": "display_data",
          "data": {
            "image/png": "[encoded data removed]",
            "text/plain": [
              "<Figure size 432x288 with 1 Axes>"
            ]
          },
          "metadata": {
            "tags": [],
            "needs_background": "light"
          }
        }
      ]
    },
    {
      "cell_type": "markdown",
      "metadata": {
        "id": "77Sfqq7Jb6a0"
      },
      "source": [
        "From the bar charts above, it can be inferred that:\n",
        "* proportion of male and female applicants is more or less same for both approved and unapproved loans\n",
        "* proportion of married applicants is higher for the approved loans\n",
        "* distribution of applicants with 1 or 3+ dependents is similar across both the categories of Loan_Status\n",
        "* there is nothing significant we can infer from Self_Employed vs Loan_Status plot.\n",
        "* proportion of loans getting approved for graduates is higher compared to non-graduates\n",
        "* it seems people with credit history as 1 are more likely to get their loans approved\n",
        "* proportion of loans getting approved in semiurban area is higher as compared to that in rural or urban areas.\n",
        "\n",
        "Now let’s visualize numerical independent variables with respect to target variable."
      ]
    },
    {
      "cell_type": "markdown",
      "metadata": {
        "id": "Wf5kdAcXcHVK"
      },
      "source": [
        "# Numerical Independent Variable vs Target Variable\n",
        "\n",
        "We will try to find the mean income of people for which the loan has been approved vs the mean income of people for which the loan has not been approved."
      ]
    },
    {
      "cell_type": "code",
      "metadata": {
        "colab": {
          "base_uri": "https://localhost:8080/",
          "height": 364
        },
        "id": "8Y1mdAfjcKlg",
        "outputId": "b5a30df1-9b7f-4152-a0a8-1efc96339262"
      },
      "source": [
        "print(train.groupby('Loan_Status')['ApplicantIncome'].mean())\n",
        "\n",
        "train.groupby('Loan_Status')['ApplicantIncome'].mean().plot.bar()"
      ],
      "execution_count": null,
      "outputs": [
        {
          "output_type": "stream",
          "text": [
            "Loan_Status\n",
            "N    5446.078125\n",
            "Y    5384.068720\n",
            "Name: ApplicantIncome, dtype: float64\n"
          ],
          "name": "stdout"
        },
        {
          "output_type": "execute_result",
          "data": {
            "text/plain": [
              "<matplotlib.axes._subplots.AxesSubplot at 0x7f21a0ca5bd0>"
            ]
          },
          "metadata": {
            "tags": []
          },
          "execution_count": 30
        },
        {
          "output_type": "display_data",
          "data": {
            "image/png": "[encoded data removed]",
            "text/plain": [
              "<Figure size 432x288 with 1 Axes>"
            ]
          },
          "metadata": {
            "tags": [],
            "needs_background": "light"
          }
        }
      ]
    },
    {
      "cell_type": "markdown",
      "metadata": {
        "id": "88fCg8SicPF7"
      },
      "source": [
        "Here the y-axis represents the mean applicant income. We don’t see any significant difference in the mean income between those approval and not approved applicant (5384 vs 5446).\n",
        "So, let’s make bins for the applicant income variable based on the values in it and analyze the corresponding loan status for each bin."
      ]
    },
    {
      "cell_type": "code",
      "metadata": {
        "id": "mBwm-cjzcQWq"
      },
      "source": [
        "# making bins for applicant income variable\n",
        "bins = [0,2500,4000,6000,81000]\n",
        "group = ['Low','Average','High', 'Very high']\n",
        "train['Income_bin'] = pd.cut(df['ApplicantIncome'],bins,labels=group)"
      ],
      "execution_count": null,
      "outputs": []
    },
    {
      "cell_type": "code",
      "metadata": {
        "colab": {
          "base_uri": "https://localhost:8080/",
          "height": 300
        },
        "id": "2ylc-zlucU-j",
        "outputId": "48b5f55a-be28-449a-c471-4f8d255b3e7d"
      },
      "source": [
        "# take a look at the train set\n",
        "train.head(8)"
      ],
      "execution_count": null,
      "outputs": [
        {
          "output_type": "execute_result",
          "data": {
            "text/html": [
              "<div>\n",
              "<style scoped>\n",
              "    .dataframe tbody tr th:only-of-type {\n",
              "        vertical-align: middle;\n",
              "    }\n",
              "\n",
              "    .dataframe tbody tr th {\n",
              "        vertical-align: top;\n",
              "    }\n",
              "\n",
              "    .dataframe thead th {\n",
              "        text-align: right;\n",
              "    }\n",
              "</style>\n",
              "<table border=\"1\" class=\"dataframe\">\n",
              "  <thead>\n",
              "    <tr style=\"text-align: right;\">\n",
              "      <th></th>\n",
              "      <th>Loan_ID</th>\n",
              "      <th>Gender</th>\n",
              "      <th>Married</th>\n",
              "      <th>Dependents</th>\n",
              "      <th>Education</th>\n",
              "      <th>Self_Employed</th>\n",
              "      <th>ApplicantIncome</th>\n",
              "      <th>CoapplicantIncome</th>\n",
              "      <th>LoanAmount</th>\n",
              "      <th>Loan_Amount_Term</th>\n",
              "      <th>Credit_History</th>\n",
              "      <th>Property_Area</th>\n",
              "      <th>Loan_Status</th>\n",
              "      <th>Income_bin</th>\n",
              "    </tr>\n",
              "  </thead>\n",
              "  <tbody>\n",
              "    <tr>\n",
              "      <th>0</th>\n",
              "      <td>LP001002</td>\n",
              "      <td>Male</td>\n",
              "      <td>No</td>\n",
              "      <td>0</td>\n",
              "      <td>Graduate</td>\n",
              "      <td>No</td>\n",
              "      <td>5849</td>\n",
              "      <td>0.0</td>\n",
              "      <td>NaN</td>\n",
              "      <td>360.0</td>\n",
              "      <td>1.0</td>\n",
              "      <td>Urban</td>\n",
              "      <td>Y</td>\n",
              "      <td>NaN</td>\n",
              "    </tr>\n",
              "    <tr>\n",
              "      <th>1</th>\n",
              "      <td>LP001003</td>\n",
              "      <td>Male</td>\n",
              "      <td>Yes</td>\n",
              "      <td>1</td>\n",
              "      <td>Graduate</td>\n",
              "      <td>No</td>\n",
              "      <td>4583</td>\n",
              "      <td>1508.0</td>\n",
              "      <td>128.0</td>\n",
              "      <td>360.0</td>\n",
              "      <td>1.0</td>\n",
              "      <td>Rural</td>\n",
              "      <td>N</td>\n",
              "      <td>High</td>\n",
              "    </tr>\n",
              "    <tr>\n",
              "      <th>2</th>\n",
              "      <td>LP001005</td>\n",
              "      <td>Male</td>\n",
              "      <td>Yes</td>\n",
              "      <td>0</td>\n",
              "      <td>Graduate</td>\n",
              "      <td>Yes</td>\n",
              "      <td>3000</td>\n",
              "      <td>0.0</td>\n",
              "      <td>66.0</td>\n",
              "      <td>360.0</td>\n",
              "      <td>1.0</td>\n",
              "      <td>Urban</td>\n",
              "      <td>Y</td>\n",
              "      <td>Average</td>\n",
              "    </tr>\n",
              "    <tr>\n",
              "      <th>3</th>\n",
              "      <td>LP001006</td>\n",
              "      <td>Male</td>\n",
              "      <td>Yes</td>\n",
              "      <td>0</td>\n",
              "      <td>Not Graduate</td>\n",
              "      <td>No</td>\n",
              "      <td>2583</td>\n",
              "      <td>2358.0</td>\n",
              "      <td>120.0</td>\n",
              "      <td>360.0</td>\n",
              "      <td>1.0</td>\n",
              "      <td>Urban</td>\n",
              "      <td>Y</td>\n",
              "      <td>Average</td>\n",
              "    </tr>\n",
              "    <tr>\n",
              "      <th>4</th>\n",
              "      <td>LP001008</td>\n",
              "      <td>Male</td>\n",
              "      <td>No</td>\n",
              "      <td>0</td>\n",
              "      <td>Graduate</td>\n",
              "      <td>No</td>\n",
              "      <td>6000</td>\n",
              "      <td>0.0</td>\n",
              "      <td>141.0</td>\n",
              "      <td>360.0</td>\n",
              "      <td>1.0</td>\n",
              "      <td>Urban</td>\n",
              "      <td>Y</td>\n",
              "      <td>High</td>\n",
              "    </tr>\n",
              "    <tr>\n",
              "      <th>5</th>\n",
              "      <td>LP001011</td>\n",
              "      <td>Male</td>\n",
              "      <td>Yes</td>\n",
              "      <td>2</td>\n",
              "      <td>Graduate</td>\n",
              "      <td>Yes</td>\n",
              "      <td>5417</td>\n",
              "      <td>4196.0</td>\n",
              "      <td>267.0</td>\n",
              "      <td>360.0</td>\n",
              "      <td>1.0</td>\n",
              "      <td>Urban</td>\n",
              "      <td>Y</td>\n",
              "      <td>High</td>\n",
              "    </tr>\n",
              "    <tr>\n",
              "      <th>6</th>\n",
              "      <td>LP001013</td>\n",
              "      <td>Male</td>\n",
              "      <td>Yes</td>\n",
              "      <td>0</td>\n",
              "      <td>Not Graduate</td>\n",
              "      <td>No</td>\n",
              "      <td>2333</td>\n",
              "      <td>1516.0</td>\n",
              "      <td>95.0</td>\n",
              "      <td>360.0</td>\n",
              "      <td>1.0</td>\n",
              "      <td>Urban</td>\n",
              "      <td>Y</td>\n",
              "      <td>Low</td>\n",
              "    </tr>\n",
              "    <tr>\n",
              "      <th>7</th>\n",
              "      <td>LP001014</td>\n",
              "      <td>Male</td>\n",
              "      <td>Yes</td>\n",
              "      <td>3+</td>\n",
              "      <td>Graduate</td>\n",
              "      <td>No</td>\n",
              "      <td>3036</td>\n",
              "      <td>2504.0</td>\n",
              "      <td>158.0</td>\n",
              "      <td>360.0</td>\n",
              "      <td>0.0</td>\n",
              "      <td>Semiurban</td>\n",
              "      <td>N</td>\n",
              "      <td>Average</td>\n",
              "    </tr>\n",
              "  </tbody>\n",
              "</table>\n",
              "</div>"
            ],
            "text/plain": [
              "    Loan_ID Gender Married  ... Property_Area Loan_Status Income_bin\n",
              "0  LP001002   Male      No  ...         Urban           Y        NaN\n",
              "1  LP001003   Male     Yes  ...         Rural           N       High\n",
              "2  LP001005   Male     Yes  ...         Urban           Y    Average\n",
              "3  LP001006   Male     Yes  ...         Urban           Y    Average\n",
              "4  LP001008   Male      No  ...         Urban           Y       High\n",
              "5  LP001011   Male     Yes  ...         Urban           Y       High\n",
              "6  LP001013   Male     Yes  ...         Urban           Y        Low\n",
              "7  LP001014   Male     Yes  ...     Semiurban           N    Average\n",
              "\n",
              "[8 rows x 14 columns]"
            ]
          },
          "metadata": {
            "tags": []
          },
          "execution_count": 32
        }
      ]
    },
    {
      "cell_type": "code",
      "metadata": {
        "colab": {
          "base_uri": "https://localhost:8080/",
          "height": 421
        },
        "id": "7n8wMxcscXag",
        "outputId": "c0476fec-16f1-4ddc-9f9e-e144fad9f5ec"
      },
      "source": [
        "print(pd.crosstab(train['Income_bin'],train['Loan_Status']))\n",
        "\n",
        "Income_bin = pd.crosstab(train['Income_bin'],train['Loan_Status'])\n",
        "Income_bin.div(Income_bin.sum(1).astype(float), axis=0).plot(kind=\"bar\", stacked=True)\n",
        "plt.xlabel('ApplicantIncome')\n",
        "P = plt.ylabel('Percentage')"
      ],
      "execution_count": null,
      "outputs": [
        {
          "output_type": "stream",
          "text": [
            "Loan_Status   N    Y\n",
            "Income_bin          \n",
            "Low          26   57\n",
            "Average      51  123\n",
            "High         32   79\n",
            "Very high    39   73\n"
          ],
          "name": "stdout"
        },
        {
          "output_type": "display_data",
          "data": {
            "image/png": "[encoded data removed]",
            "text/plain": [
              "<Figure size 432x288 with 1 Axes>"
            ]
          },
          "metadata": {
            "tags": [],
            "needs_background": "light"
          }
        }
      ]
    },
    {
      "cell_type": "markdown",
      "metadata": {
        "id": "ZB9UPxEncZ_I"
      },
      "source": [
        "It can be inferred that Applicant income does not affect the chances of loan approval which contradicts our hypothesis in which we assumed that if the applicant income is high the chances of loan approval will also be high.\n",
        "\n",
        "We will analyze the Coapplicant income and loan amount variable in similar manner."
      ]
    },
    {
      "cell_type": "code",
      "metadata": {
        "id": "o4BFT7iPcbTF"
      },
      "source": [
        "# making bins for Coapplicant income variable\n",
        "bins = [0,1000,3000,42000]\n",
        "group = ['Low','Average','High']\n",
        "train['Coapplicant_Income_bin'] = pd.cut(df['CoapplicantIncome'],bins,labels=group)"
      ],
      "execution_count": null,
      "outputs": []
    },
    {
      "cell_type": "code",
      "metadata": {
        "colab": {
          "base_uri": "https://localhost:8080/",
          "height": 309
        },
        "id": "ubbjbIaUcf3S",
        "outputId": "01487579-8abb-4fdf-ee8a-88898c7a5c22"
      },
      "source": [
        "# plot the chart\n",
        "Coapplicant_Income_bin = pd.crosstab(train['Coapplicant_Income_bin'],train['Loan_Status'])\n",
        "Coapplicant_Income_bin.div(Coapplicant_Income_bin.sum(1).astype(float), axis=0).plot(kind=\"bar\", stacked=True)\n",
        "plt.xlabel('CoapplicantIncome')\n",
        "P = plt.ylabel('Percentage')"
      ],
      "execution_count": null,
      "outputs": [
        {
          "output_type": "display_data",
          "data": {
            "image/png": "[encoded data removed]",
            "text/plain": [
              "<Figure size 432x288 with 1 Axes>"
            ]
          },
          "metadata": {
            "tags": [],
            "needs_background": "light"
          }
        }
      ]
    },
    {
      "cell_type": "code",
      "metadata": {
        "colab": {
          "base_uri": "https://localhost:8080/"
        },
        "id": "EvVml_k0ciFC",
        "outputId": "56800191-3d6a-40e1-96a4-096d56a63b7a"
      },
      "source": [
        "print(len(train[train[\"CoapplicantIncome\"] == 0]))\n",
        "\"Percentage of CoapplicantIncome = 0 is:\",  len(train[train[\"CoapplicantIncome\"] == 0])/len(train[\"CoapplicantIncome\"])"
      ],
      "execution_count": null,
      "outputs": [
        {
          "output_type": "stream",
          "text": [
            "273\n"
          ],
          "name": "stdout"
        },
        {
          "output_type": "execute_result",
          "data": {
            "text/plain": [
              "('Percentage of CoapplicantIncome = 0 is:', 0.44462540716612375)"
            ]
          },
          "metadata": {
            "tags": []
          },
          "execution_count": 36
        }
      ]
    },
    {
      "cell_type": "markdown",
      "metadata": {
        "id": "sWJAETXIckKI"
      },
      "source": [
        "It shows that if coapplicant’s income is less the chances of loan approval are high. But this does not look right. The possible reason behind this may be that most of the applicants don’t have any coapplicant, so the coapplicant income for such applicants is 0 and hence the loan approval is not dependent on it. So we can make a new variable in which we will combine the applicant’s and coapplicant’s income to visualize the combined effect of income on loan approval.\n",
        "\n",
        "Let us combine the Applicant Income and Coapplicant Income and see the combined effect of Total Income on the Loan_Status."
      ]
    },
    {
      "cell_type": "code",
      "metadata": {
        "id": "knq3_4vFcltq"
      },
      "source": [
        "# create a new variable\n",
        "train['Total_Income'] = train['ApplicantIncome'] + train['CoapplicantIncome']"
      ],
      "execution_count": null,
      "outputs": []
    },
    {
      "cell_type": "code",
      "metadata": {
        "id": "lWG9eBF5cpVL"
      },
      "source": [
        "# making bins for Total Income variable\n",
        "bins = [0,2500,4000,6000,81000]\n",
        "group = ['Low','Average','High', 'Very high']\n",
        "train['Total_Income_bin'] = pd.cut(train['Total_Income'],bins,labels=group)"
      ],
      "execution_count": null,
      "outputs": []
    },
    {
      "cell_type": "code",
      "metadata": {
        "colab": {
          "base_uri": "https://localhost:8080/",
          "height": 317
        },
        "id": "WBkjovnicrUP",
        "outputId": "6c4e207f-5baf-4e29-c069-47a7eca20238"
      },
      "source": [
        "# plot the chart\n",
        "Total_Income_bin = pd.crosstab(train['Total_Income_bin'],train['Loan_Status'])\n",
        "Total_Income_bin.div(Total_Income_bin.sum(1).astype(float), axis=0).plot(kind=\"bar\", stacked=True)\n",
        "plt.xlabel('Total_Income')\n",
        "P = plt.ylabel('Percentage')"
      ],
      "execution_count": null,
      "outputs": [
        {
          "output_type": "display_data",
          "data": {
            "image/png": "[encoded data removed]",
            "text/plain": [
              "<Figure size 432x288 with 1 Axes>"
            ]
          },
          "metadata": {
            "tags": [],
            "needs_background": "light"
          }
        }
      ]
    },
    {
      "cell_type": "markdown",
      "metadata": {
        "id": "4akMge8Dctq2"
      },
      "source": [
        "We can see that Proportion of loans getting approved for applicants having low Total_Income is very less as compared to that of applicants with Average, High and Very High Income. This is more consistent with our hypothesis with applicants with high income will have more chances of loan approval.\n",
        "\n",
        "Let’s visualize the Loan amount variable."
      ]
    },
    {
      "cell_type": "code",
      "metadata": {
        "id": "YeQMSJW2c8ue"
      },
      "source": [
        ""
      ],
      "execution_count": null,
      "outputs": []
    },
    {
      "cell_type": "code",
      "metadata": {
        "id": "0F4LtrBVcvd0"
      },
      "source": [
        "# making bins for LoanAmount variable\n",
        "bins = [0,100,200,700]\n",
        "group = ['Low','Average','High']\n",
        "train['LoanAmount_bin'] = pd.cut(df['LoanAmount'],bins,labels=group)"
      ],
      "execution_count": null,
      "outputs": []
    },
    {
      "cell_type": "code",
      "metadata": {
        "colab": {
          "base_uri": "https://localhost:8080/",
          "height": 309
        },
        "id": "YwOYgDeOczIT",
        "outputId": "8e904b22-addd-4e4e-b22b-139f738bc32a"
      },
      "source": [
        "# plot the chart \n",
        "LoanAmount_bin = pd.crosstab(train['LoanAmount_bin'],train['Loan_Status'])\n",
        "LoanAmount_bin.div(LoanAmount_bin.sum(1).astype(float), axis=0).plot(kind=\"bar\", stacked=True)\n",
        "plt.xlabel('LoanAmount')\n",
        "P = plt.ylabel('Percentage')"
      ],
      "execution_count": null,
      "outputs": [
        {
          "output_type": "display_data",
          "data": {
            "image/png": "[encoded data removed]",
            "text/plain": [
              "<Figure size 432x288 with 1 Axes>"
            ]
          },
          "metadata": {
            "tags": [],
            "needs_background": "light"
          }
        }
      ]
    },
    {
      "cell_type": "markdown",
      "metadata": {
        "id": "kEoXnxxOc5On"
      },
      "source": [
        "It can be seen that the proportion of approved loans is higher for Low and Average Loan Amount as compared to that of High Loan Amount which supports our hypothesis in which we considered that the chances of loan approval will be high when the loan amount is less.\n",
        "\n",
        "Let’s drop the bins which we created for the exploration part."
      ]
    },
    {
      "cell_type": "code",
      "metadata": {
        "colab": {
          "base_uri": "https://localhost:8080/",
          "height": 244
        },
        "id": "POVppfmMc6Z1",
        "outputId": "e528c21b-0922-4a53-cc04-141f270b0b11"
      },
      "source": [
        "# before dropping\n",
        "train.head()"
      ],
      "execution_count": null,
      "outputs": [
        {
          "output_type": "execute_result",
          "data": {
            "text/html": [
              "<div>\n",
              "<style scoped>\n",
              "    .dataframe tbody tr th:only-of-type {\n",
              "        vertical-align: middle;\n",
              "    }\n",
              "\n",
              "    .dataframe tbody tr th {\n",
              "        vertical-align: top;\n",
              "    }\n",
              "\n",
              "    .dataframe thead th {\n",
              "        text-align: right;\n",
              "    }\n",
              "</style>\n",
              "<table border=\"1\" class=\"dataframe\">\n",
              "  <thead>\n",
              "    <tr style=\"text-align: right;\">\n",
              "      <th></th>\n",
              "      <th>Loan_ID</th>\n",
              "      <th>Gender</th>\n",
              "      <th>Married</th>\n",
              "      <th>Dependents</th>\n",
              "      <th>Education</th>\n",
              "      <th>Self_Employed</th>\n",
              "      <th>ApplicantIncome</th>\n",
              "      <th>CoapplicantIncome</th>\n",
              "      <th>LoanAmount</th>\n",
              "      <th>Loan_Amount_Term</th>\n",
              "      <th>Credit_History</th>\n",
              "      <th>Property_Area</th>\n",
              "      <th>Loan_Status</th>\n",
              "      <th>Income_bin</th>\n",
              "      <th>Coapplicant_Income_bin</th>\n",
              "      <th>Total_Income</th>\n",
              "      <th>Total_Income_bin</th>\n",
              "      <th>LoanAmount_bin</th>\n",
              "    </tr>\n",
              "  </thead>\n",
              "  <tbody>\n",
              "    <tr>\n",
              "      <th>0</th>\n",
              "      <td>LP001002</td>\n",
              "      <td>Male</td>\n",
              "      <td>No</td>\n",
              "      <td>0</td>\n",
              "      <td>Graduate</td>\n",
              "      <td>No</td>\n",
              "      <td>5849</td>\n",
              "      <td>0.0</td>\n",
              "      <td>NaN</td>\n",
              "      <td>360.0</td>\n",
              "      <td>1.0</td>\n",
              "      <td>Urban</td>\n",
              "      <td>Y</td>\n",
              "      <td>NaN</td>\n",
              "      <td>NaN</td>\n",
              "      <td>5849.0</td>\n",
              "      <td>High</td>\n",
              "      <td>NaN</td>\n",
              "    </tr>\n",
              "    <tr>\n",
              "      <th>1</th>\n",
              "      <td>LP001003</td>\n",
              "      <td>Male</td>\n",
              "      <td>Yes</td>\n",
              "      <td>1</td>\n",
              "      <td>Graduate</td>\n",
              "      <td>No</td>\n",
              "      <td>4583</td>\n",
              "      <td>1508.0</td>\n",
              "      <td>128.0</td>\n",
              "      <td>360.0</td>\n",
              "      <td>1.0</td>\n",
              "      <td>Rural</td>\n",
              "      <td>N</td>\n",
              "      <td>High</td>\n",
              "      <td>Average</td>\n",
              "      <td>6091.0</td>\n",
              "      <td>Very high</td>\n",
              "      <td>Average</td>\n",
              "    </tr>\n",
              "    <tr>\n",
              "      <th>2</th>\n",
              "      <td>LP001005</td>\n",
              "      <td>Male</td>\n",
              "      <td>Yes</td>\n",
              "      <td>0</td>\n",
              "      <td>Graduate</td>\n",
              "      <td>Yes</td>\n",
              "      <td>3000</td>\n",
              "      <td>0.0</td>\n",
              "      <td>66.0</td>\n",
              "      <td>360.0</td>\n",
              "      <td>1.0</td>\n",
              "      <td>Urban</td>\n",
              "      <td>Y</td>\n",
              "      <td>Average</td>\n",
              "      <td>NaN</td>\n",
              "      <td>3000.0</td>\n",
              "      <td>Average</td>\n",
              "      <td>Low</td>\n",
              "    </tr>\n",
              "    <tr>\n",
              "      <th>3</th>\n",
              "      <td>LP001006</td>\n",
              "      <td>Male</td>\n",
              "      <td>Yes</td>\n",
              "      <td>0</td>\n",
              "      <td>Not Graduate</td>\n",
              "      <td>No</td>\n",
              "      <td>2583</td>\n",
              "      <td>2358.0</td>\n",
              "      <td>120.0</td>\n",
              "      <td>360.0</td>\n",
              "      <td>1.0</td>\n",
              "      <td>Urban</td>\n",
              "      <td>Y</td>\n",
              "      <td>Average</td>\n",
              "      <td>Average</td>\n",
              "      <td>4941.0</td>\n",
              "      <td>High</td>\n",
              "      <td>Average</td>\n",
              "    </tr>\n",
              "    <tr>\n",
              "      <th>4</th>\n",
              "      <td>LP001008</td>\n",
              "      <td>Male</td>\n",
              "      <td>No</td>\n",
              "      <td>0</td>\n",
              "      <td>Graduate</td>\n",
              "      <td>No</td>\n",
              "      <td>6000</td>\n",
              "      <td>0.0</td>\n",
              "      <td>141.0</td>\n",
              "      <td>360.0</td>\n",
              "      <td>1.0</td>\n",
              "      <td>Urban</td>\n",
              "      <td>Y</td>\n",
              "      <td>High</td>\n",
              "      <td>NaN</td>\n",
              "      <td>6000.0</td>\n",
              "      <td>High</td>\n",
              "      <td>Average</td>\n",
              "    </tr>\n",
              "  </tbody>\n",
              "</table>\n",
              "</div>"
            ],
            "text/plain": [
              "    Loan_ID Gender Married  ... Total_Income Total_Income_bin LoanAmount_bin\n",
              "0  LP001002   Male      No  ...       5849.0             High            NaN\n",
              "1  LP001003   Male     Yes  ...       6091.0        Very high        Average\n",
              "2  LP001005   Male     Yes  ...       3000.0          Average            Low\n",
              "3  LP001006   Male     Yes  ...       4941.0             High        Average\n",
              "4  LP001008   Male      No  ...       6000.0             High        Average\n",
              "\n",
              "[5 rows x 18 columns]"
            ]
          },
          "metadata": {
            "tags": []
          },
          "execution_count": 42
        }
      ]
    },
    {
      "cell_type": "code",
      "metadata": {
        "id": "dFeE6svmc-LX"
      },
      "source": [
        "# drop the new variable of bins\n",
        "train = train.drop(['Income_bin', 'Coapplicant_Income_bin', 'LoanAmount_bin', 'Total_Income_bin', 'Total_Income'], axis=1)\n"
      ],
      "execution_count": null,
      "outputs": []
    },
    {
      "cell_type": "code",
      "metadata": {
        "colab": {
          "base_uri": "https://localhost:8080/",
          "height": 206
        },
        "id": "4YGJJPyQdB-U",
        "outputId": "1c043d2b-3730-4f15-ddef-9aeb9bb74c3a"
      },
      "source": [
        "# after dropping\n",
        "train.head()"
      ],
      "execution_count": null,
      "outputs": [
        {
          "output_type": "execute_result",
          "data": {
            "text/html": [
              "<div>\n",
              "<style scoped>\n",
              "    .dataframe tbody tr th:only-of-type {\n",
              "        vertical-align: middle;\n",
              "    }\n",
              "\n",
              "    .dataframe tbody tr th {\n",
              "        vertical-align: top;\n",
              "    }\n",
              "\n",
              "    .dataframe thead th {\n",
              "        text-align: right;\n",
              "    }\n",
              "</style>\n",
              "<table border=\"1\" class=\"dataframe\">\n",
              "  <thead>\n",
              "    <tr style=\"text-align: right;\">\n",
              "      <th></th>\n",
              "      <th>Loan_ID</th>\n",
              "      <th>Gender</th>\n",
              "      <th>Married</th>\n",
              "      <th>Dependents</th>\n",
              "      <th>Education</th>\n",
              "      <th>Self_Employed</th>\n",
              "      <th>ApplicantIncome</th>\n",
              "      <th>CoapplicantIncome</th>\n",
              "      <th>LoanAmount</th>\n",
              "      <th>Loan_Amount_Term</th>\n",
              "      <th>Credit_History</th>\n",
              "      <th>Property_Area</th>\n",
              "      <th>Loan_Status</th>\n",
              "    </tr>\n",
              "  </thead>\n",
              "  <tbody>\n",
              "    <tr>\n",
              "      <th>0</th>\n",
              "      <td>LP001002</td>\n",
              "      <td>Male</td>\n",
              "      <td>No</td>\n",
              "      <td>0</td>\n",
              "      <td>Graduate</td>\n",
              "      <td>No</td>\n",
              "      <td>5849</td>\n",
              "      <td>0.0</td>\n",
              "      <td>NaN</td>\n",
              "      <td>360.0</td>\n",
              "      <td>1.0</td>\n",
              "      <td>Urban</td>\n",
              "      <td>Y</td>\n",
              "    </tr>\n",
              "    <tr>\n",
              "      <th>1</th>\n",
              "      <td>LP001003</td>\n",
              "      <td>Male</td>\n",
              "      <td>Yes</td>\n",
              "      <td>1</td>\n",
              "      <td>Graduate</td>\n",
              "      <td>No</td>\n",
              "      <td>4583</td>\n",
              "      <td>1508.0</td>\n",
              "      <td>128.0</td>\n",
              "      <td>360.0</td>\n",
              "      <td>1.0</td>\n",
              "      <td>Rural</td>\n",
              "      <td>N</td>\n",
              "    </tr>\n",
              "    <tr>\n",
              "      <th>2</th>\n",
              "      <td>LP001005</td>\n",
              "      <td>Male</td>\n",
              "      <td>Yes</td>\n",
              "      <td>0</td>\n",
              "      <td>Graduate</td>\n",
              "      <td>Yes</td>\n",
              "      <td>3000</td>\n",
              "      <td>0.0</td>\n",
              "      <td>66.0</td>\n",
              "      <td>360.0</td>\n",
              "      <td>1.0</td>\n",
              "      <td>Urban</td>\n",
              "      <td>Y</td>\n",
              "    </tr>\n",
              "    <tr>\n",
              "      <th>3</th>\n",
              "      <td>LP001006</td>\n",
              "      <td>Male</td>\n",
              "      <td>Yes</td>\n",
              "      <td>0</td>\n",
              "      <td>Not Graduate</td>\n",
              "      <td>No</td>\n",
              "      <td>2583</td>\n",
              "      <td>2358.0</td>\n",
              "      <td>120.0</td>\n",
              "      <td>360.0</td>\n",
              "      <td>1.0</td>\n",
              "      <td>Urban</td>\n",
              "      <td>Y</td>\n",
              "    </tr>\n",
              "    <tr>\n",
              "      <th>4</th>\n",
              "      <td>LP001008</td>\n",
              "      <td>Male</td>\n",
              "      <td>No</td>\n",
              "      <td>0</td>\n",
              "      <td>Graduate</td>\n",
              "      <td>No</td>\n",
              "      <td>6000</td>\n",
              "      <td>0.0</td>\n",
              "      <td>141.0</td>\n",
              "      <td>360.0</td>\n",
              "      <td>1.0</td>\n",
              "      <td>Urban</td>\n",
              "      <td>Y</td>\n",
              "    </tr>\n",
              "  </tbody>\n",
              "</table>\n",
              "</div>"
            ],
            "text/plain": [
              "    Loan_ID Gender Married  ... Credit_History Property_Area Loan_Status\n",
              "0  LP001002   Male      No  ...            1.0         Urban           Y\n",
              "1  LP001003   Male     Yes  ...            1.0         Rural           N\n",
              "2  LP001005   Male     Yes  ...            1.0         Urban           Y\n",
              "3  LP001006   Male     Yes  ...            1.0         Urban           Y\n",
              "4  LP001008   Male      No  ...            1.0         Urban           Y\n",
              "\n",
              "[5 rows x 13 columns]"
            ]
          },
          "metadata": {
            "tags": []
          },
          "execution_count": 44
        }
      ]
    },
    {
      "cell_type": "markdown",
      "metadata": {
        "id": "1BKyFIN2dIVp"
      },
      "source": [
        "We will change the 3+ in dependents variable to 3 to make it a numerical variable. We will also convert the target variable’s categories into 0 and 1 so that we can find its correlation with numerical variables. One more reason to do so is few models like logistic regression takes only numeric values as input. We will replace N with 0 and Y with 1."
      ]
    },
    {
      "cell_type": "code",
      "metadata": {
        "id": "vzEEYcLCdGMD"
      },
      "source": [
        "# replacing 3+ in Dependents variable with 3 for both train and test set\n",
        "train['Dependents'].replace('3+', 3, inplace=True)\n",
        "test['Dependents'].replace('3+', 3, inplace=True)"
      ],
      "execution_count": null,
      "outputs": []
    },
    {
      "cell_type": "code",
      "metadata": {
        "id": "khrQnTHOdNwF"
      },
      "source": [
        "# replacing Y and N in Loan_Status variable with 1 and 0 respectively\n",
        "train['Loan_Status'].replace('N', 0, inplace=True)\n",
        "train['Loan_Status'].replace('Y', 1, inplace=True)"
      ],
      "execution_count": null,
      "outputs": []
    },
    {
      "cell_type": "code",
      "metadata": {
        "colab": {
          "base_uri": "https://localhost:8080/",
          "height": 206
        },
        "id": "CjRdNJW4dQB7",
        "outputId": "821b694f-c65f-4b3a-fc7d-549831ad64cc"
      },
      "source": [
        "# check the dataset\n",
        "train.head()"
      ],
      "execution_count": null,
      "outputs": [
        {
          "output_type": "execute_result",
          "data": {
            "text/html": [
              "<div>\n",
              "<style scoped>\n",
              "    .dataframe tbody tr th:only-of-type {\n",
              "        vertical-align: middle;\n",
              "    }\n",
              "\n",
              "    .dataframe tbody tr th {\n",
              "        vertical-align: top;\n",
              "    }\n",
              "\n",
              "    .dataframe thead th {\n",
              "        text-align: right;\n",
              "    }\n",
              "</style>\n",
              "<table border=\"1\" class=\"dataframe\">\n",
              "  <thead>\n",
              "    <tr style=\"text-align: right;\">\n",
              "      <th></th>\n",
              "      <th>Loan_ID</th>\n",
              "      <th>Gender</th>\n",
              "      <th>Married</th>\n",
              "      <th>Dependents</th>\n",
              "      <th>Education</th>\n",
              "      <th>Self_Employed</th>\n",
              "      <th>ApplicantIncome</th>\n",
              "      <th>CoapplicantIncome</th>\n",
              "      <th>LoanAmount</th>\n",
              "      <th>Loan_Amount_Term</th>\n",
              "      <th>Credit_History</th>\n",
              "      <th>Property_Area</th>\n",
              "      <th>Loan_Status</th>\n",
              "    </tr>\n",
              "  </thead>\n",
              "  <tbody>\n",
              "    <tr>\n",
              "      <th>0</th>\n",
              "      <td>LP001002</td>\n",
              "      <td>Male</td>\n",
              "      <td>No</td>\n",
              "      <td>0</td>\n",
              "      <td>Graduate</td>\n",
              "      <td>No</td>\n",
              "      <td>5849</td>\n",
              "      <td>0.0</td>\n",
              "      <td>NaN</td>\n",
              "      <td>360.0</td>\n",
              "      <td>1.0</td>\n",
              "      <td>Urban</td>\n",
              "      <td>1</td>\n",
              "    </tr>\n",
              "    <tr>\n",
              "      <th>1</th>\n",
              "      <td>LP001003</td>\n",
              "      <td>Male</td>\n",
              "      <td>Yes</td>\n",
              "      <td>1</td>\n",
              "      <td>Graduate</td>\n",
              "      <td>No</td>\n",
              "      <td>4583</td>\n",
              "      <td>1508.0</td>\n",
              "      <td>128.0</td>\n",
              "      <td>360.0</td>\n",
              "      <td>1.0</td>\n",
              "      <td>Rural</td>\n",
              "      <td>0</td>\n",
              "    </tr>\n",
              "    <tr>\n",
              "      <th>2</th>\n",
              "      <td>LP001005</td>\n",
              "      <td>Male</td>\n",
              "      <td>Yes</td>\n",
              "      <td>0</td>\n",
              "      <td>Graduate</td>\n",
              "      <td>Yes</td>\n",
              "      <td>3000</td>\n",
              "      <td>0.0</td>\n",
              "      <td>66.0</td>\n",
              "      <td>360.0</td>\n",
              "      <td>1.0</td>\n",
              "      <td>Urban</td>\n",
              "      <td>1</td>\n",
              "    </tr>\n",
              "    <tr>\n",
              "      <th>3</th>\n",
              "      <td>LP001006</td>\n",
              "      <td>Male</td>\n",
              "      <td>Yes</td>\n",
              "      <td>0</td>\n",
              "      <td>Not Graduate</td>\n",
              "      <td>No</td>\n",
              "      <td>2583</td>\n",
              "      <td>2358.0</td>\n",
              "      <td>120.0</td>\n",
              "      <td>360.0</td>\n",
              "      <td>1.0</td>\n",
              "      <td>Urban</td>\n",
              "      <td>1</td>\n",
              "    </tr>\n",
              "    <tr>\n",
              "      <th>4</th>\n",
              "      <td>LP001008</td>\n",
              "      <td>Male</td>\n",
              "      <td>No</td>\n",
              "      <td>0</td>\n",
              "      <td>Graduate</td>\n",
              "      <td>No</td>\n",
              "      <td>6000</td>\n",
              "      <td>0.0</td>\n",
              "      <td>141.0</td>\n",
              "      <td>360.0</td>\n",
              "      <td>1.0</td>\n",
              "      <td>Urban</td>\n",
              "      <td>1</td>\n",
              "    </tr>\n",
              "  </tbody>\n",
              "</table>\n",
              "</div>"
            ],
            "text/plain": [
              "    Loan_ID Gender Married  ... Credit_History Property_Area Loan_Status\n",
              "0  LP001002   Male      No  ...            1.0         Urban           1\n",
              "1  LP001003   Male     Yes  ...            1.0         Rural           0\n",
              "2  LP001005   Male     Yes  ...            1.0         Urban           1\n",
              "3  LP001006   Male     Yes  ...            1.0         Urban           1\n",
              "4  LP001008   Male      No  ...            1.0         Urban           1\n",
              "\n",
              "[5 rows x 13 columns]"
            ]
          },
          "metadata": {
            "tags": []
          },
          "execution_count": 47
        }
      ]
    },
    {
      "cell_type": "markdown",
      "metadata": {
        "id": "Tkk-GclddTUH"
      },
      "source": [
        "Now lets look at the correlation between all the numerical variables. We can use the corr() to compute pairwise correlation of columns, excluding NA/null values using pearson correlation coefficient. Then we will use the heat map to visualize the correlation. Heatmaps visualize data through variations in coloring. The variables with darker color means their correlation is more."
      ]
    },
    {
      "cell_type": "code",
      "metadata": {
        "colab": {
          "base_uri": "https://localhost:8080/",
          "height": 685
        },
        "id": "bn3vNcXGdVR5",
        "outputId": "5c6b3569-e71b-4d0a-869a-b7770b7f6c0a"
      },
      "source": [
        "# calculate and visualize correlation matrix\n",
        "matrix = train.corr()\n",
        "f, ax = plt.subplots(figsize=(9, 6))\n",
        "sns.heatmap(matrix, vmax=1, square=True, cmap=\"BuPu\", annot=True)\n",
        "\n",
        "matrix"
      ],
      "execution_count": null,
      "outputs": [
        {
          "output_type": "execute_result",
          "data": {
            "text/html": [
              "<div>\n",
              "<style scoped>\n",
              "    .dataframe tbody tr th:only-of-type {\n",
              "        vertical-align: middle;\n",
              "    }\n",
              "\n",
              "    .dataframe tbody tr th {\n",
              "        vertical-align: top;\n",
              "    }\n",
              "\n",
              "    .dataframe thead th {\n",
              "        text-align: right;\n",
              "    }\n",
              "</style>\n",
              "<table border=\"1\" class=\"dataframe\">\n",
              "  <thead>\n",
              "    <tr style=\"text-align: right;\">\n",
              "      <th></th>\n",
              "      <th>ApplicantIncome</th>\n",
              "      <th>CoapplicantIncome</th>\n",
              "      <th>LoanAmount</th>\n",
              "      <th>Loan_Amount_Term</th>\n",
              "      <th>Credit_History</th>\n",
              "      <th>Loan_Status</th>\n",
              "    </tr>\n",
              "  </thead>\n",
              "  <tbody>\n",
              "    <tr>\n",
              "      <th>ApplicantIncome</th>\n",
              "      <td>1.000000</td>\n",
              "      <td>-0.116605</td>\n",
              "      <td>0.570909</td>\n",
              "      <td>-0.045306</td>\n",
              "      <td>-0.014715</td>\n",
              "      <td>-0.004710</td>\n",
              "    </tr>\n",
              "    <tr>\n",
              "      <th>CoapplicantIncome</th>\n",
              "      <td>-0.116605</td>\n",
              "      <td>1.000000</td>\n",
              "      <td>0.188619</td>\n",
              "      <td>-0.059878</td>\n",
              "      <td>-0.002056</td>\n",
              "      <td>-0.059187</td>\n",
              "    </tr>\n",
              "    <tr>\n",
              "      <th>LoanAmount</th>\n",
              "      <td>0.570909</td>\n",
              "      <td>0.188619</td>\n",
              "      <td>1.000000</td>\n",
              "      <td>0.039447</td>\n",
              "      <td>-0.008433</td>\n",
              "      <td>-0.037318</td>\n",
              "    </tr>\n",
              "    <tr>\n",
              "      <th>Loan_Amount_Term</th>\n",
              "      <td>-0.045306</td>\n",
              "      <td>-0.059878</td>\n",
              "      <td>0.039447</td>\n",
              "      <td>1.000000</td>\n",
              "      <td>0.001470</td>\n",
              "      <td>-0.021268</td>\n",
              "    </tr>\n",
              "    <tr>\n",
              "      <th>Credit_History</th>\n",
              "      <td>-0.014715</td>\n",
              "      <td>-0.002056</td>\n",
              "      <td>-0.008433</td>\n",
              "      <td>0.001470</td>\n",
              "      <td>1.000000</td>\n",
              "      <td>0.561678</td>\n",
              "    </tr>\n",
              "    <tr>\n",
              "      <th>Loan_Status</th>\n",
              "      <td>-0.004710</td>\n",
              "      <td>-0.059187</td>\n",
              "      <td>-0.037318</td>\n",
              "      <td>-0.021268</td>\n",
              "      <td>0.561678</td>\n",
              "      <td>1.000000</td>\n",
              "    </tr>\n",
              "  </tbody>\n",
              "</table>\n",
              "</div>"
            ],
            "text/plain": [
              "                   ApplicantIncome  ...  Loan_Status\n",
              "ApplicantIncome           1.000000  ...    -0.004710\n",
              "CoapplicantIncome        -0.116605  ...    -0.059187\n",
              "LoanAmount                0.570909  ...    -0.037318\n",
              "Loan_Amount_Term         -0.045306  ...    -0.021268\n",
              "Credit_History           -0.014715  ...     0.561678\n",
              "Loan_Status              -0.004710  ...     1.000000\n",
              "\n",
              "[6 rows x 6 columns]"
            ]
          },
          "metadata": {
            "tags": []
          },
          "execution_count": 48
        },
        {
          "output_type": "display_data",
          "data": {
            "image/png": "[encoded data removed]",
            "text/plain": [
              "<Figure size 648x432 with 2 Axes>"
            ]
          },
          "metadata": {
            "tags": [],
            "needs_background": "light"
          }
        }
      ]
    },
    {
      "cell_type": "markdown",
      "metadata": {
        "id": "0h9aVPszdZiV"
      },
      "source": [
        "*Note: * We see that the most correlated variables are\n",
        "(ApplicantIncome - LoanAmount) with correlation coefficient of 0.57\n",
        "(Credit_History - Loan_Status) with correlation coefficient of 0.56\n",
        "LoanAmount is also correlated with CoapplicantIncome with correlation coefficient of 0.19."
      ]
    },
    {
      "cell_type": "markdown",
      "metadata": {
        "id": "IneJGkIudh1C"
      },
      "source": [
        "# Data Pre-processing\n",
        "Data pre-processing is a data mining technique that involves transforming raw data into an understandable format. Real-world data is often incomplete, inconsistent, and/or lacking in certain behaviors or trends, and is likely to contain many errors. Data pre-processing is a method of resolving such issues.\n",
        "# Missing value and outlier treatment\n",
        "After exploring all the variables in our data, we can now impute the missing values and treat the outliers because missing data and outliers can have adverse effect on the model performance.\n",
        "# Missing value imputation\n",
        "Let’s list out feature-wise count of missing values."
      ]
    },
    {
      "cell_type": "code",
      "metadata": {
        "colab": {
          "base_uri": "https://localhost:8080/"
        },
        "id": "tPNfdKArdl0s",
        "outputId": "2600f01a-48d5-46a4-a226-f75aee5824c0"
      },
      "source": [
        "# check for missing values\n",
        "train.isnull().sum()"
      ],
      "execution_count": null,
      "outputs": [
        {
          "output_type": "execute_result",
          "data": {
            "text/plain": [
              "Loan_ID               0\n",
              "Gender               13\n",
              "Married               3\n",
              "Dependents           15\n",
              "Education             0\n",
              "Self_Employed        32\n",
              "ApplicantIncome       0\n",
              "CoapplicantIncome     0\n",
              "LoanAmount           22\n",
              "Loan_Amount_Term     14\n",
              "Credit_History       50\n",
              "Property_Area         0\n",
              "Loan_Status           0\n",
              "dtype: int64"
            ]
          },
          "metadata": {
            "tags": []
          },
          "execution_count": 49
        }
      ]
    },
    {
      "cell_type": "code",
      "metadata": {
        "id": "1CSG8X_Edslw"
      },
      "source": [
        ""
      ],
      "execution_count": null,
      "outputs": []
    },
    {
      "cell_type": "markdown",
      "metadata": {
        "id": "sfrlznjdd0gP"
      },
      "source": [
        "Now let’s try to find a way to fill the missing values in Loan_Amount_Term. We will look at the value count of the Loan amount term variable."
      ]
    },
    {
      "cell_type": "code",
      "metadata": {
        "colab": {
          "base_uri": "https://localhost:8080/"
        },
        "id": "ruhGQvZ2d1kv",
        "outputId": "d1787c27-e8cb-4a18-8653-9bc3aa3bb2f5"
      },
      "source": [
        "train['Loan_Amount_Term'].value_counts()"
      ],
      "execution_count": null,
      "outputs": [
        {
          "output_type": "execute_result",
          "data": {
            "text/plain": [
              "360.0    512\n",
              "180.0     44\n",
              "480.0     15\n",
              "300.0     13\n",
              "84.0       4\n",
              "240.0      4\n",
              "120.0      3\n",
              "36.0       2\n",
              "60.0       2\n",
              "12.0       1\n",
              "Name: Loan_Amount_Term, dtype: int64"
            ]
          },
          "metadata": {
            "tags": []
          },
          "execution_count": 54
        }
      ]
    },
    {
      "cell_type": "markdown",
      "metadata": {
        "id": "372456whd5RH"
      },
      "source": [
        "It can be seen that in loan amount term variable, the value of 360 is repeating the most. So we will replace the missing values in this variable using the mode of this variable."
      ]
    },
    {
      "cell_type": "code",
      "metadata": {
        "id": "UXJk_qYKd5_Y"
      },
      "source": [
        "# replace missing value with the mode\n",
        "train['Loan_Amount_Term'].fillna(train['Loan_Amount_Term'].mode()[0], inplace=True)"
      ],
      "execution_count": null,
      "outputs": []
    },
    {
      "cell_type": "markdown",
      "metadata": {
        "id": "SjjG0QwYd75D"
      },
      "source": [
        "Now we will see the LoanAmount variable. As it is a numerical variable, we can use mean or median to impute the missing values. We will use median to fill the null values as earlier we saw that loan amount have outliers so the mean will not be the proper approach as it is highly affected by the presence of outliers."
      ]
    },
    {
      "cell_type": "code",
      "metadata": {
        "id": "ol7xYEH0d-Db"
      },
      "source": [
        "# replace missing values with the median value due to outliers\n",
        "train['LoanAmount'].fillna(train['LoanAmount'].median(), inplace=True)"
      ],
      "execution_count": null,
      "outputs": []
    },
    {
      "cell_type": "code",
      "metadata": {
        "colab": {
          "base_uri": "https://localhost:8080/"
        },
        "id": "yEA6u9FteBHi",
        "outputId": "5d1d72c8-8150-4f97-99c3-25b3ea188d73"
      },
      "source": [
        "# check whether all the missing values are filled in the Train dataset\n",
        "train.isnull().sum()"
      ],
      "execution_count": null,
      "outputs": [
        {
          "output_type": "execute_result",
          "data": {
            "text/plain": [
              "Loan_ID              0\n",
              "Gender               0\n",
              "Married              0\n",
              "Dependents           0\n",
              "Education            0\n",
              "Self_Employed        0\n",
              "ApplicantIncome      0\n",
              "CoapplicantIncome    0\n",
              "LoanAmount           0\n",
              "Loan_Amount_Term     0\n",
              "Credit_History       0\n",
              "Property_Area        0\n",
              "Loan_Status          0\n",
              "dtype: int64"
            ]
          },
          "metadata": {
            "tags": []
          },
          "execution_count": 57
        }
      ]
    },
    {
      "cell_type": "markdown",
      "metadata": {
        "id": "nAOcQOxNeDcx"
      },
      "source": [
        "As we can see that all the missing values have been filled in the Train dataset. Let’s fill all the missing values in the test dataset too with the same approach.\n",
        "\n",
        "*Note: * We need to replace the missing values in Test set using the mode/median/mean of the Training set, not from the Test set. Likewise, if you remove values above some threshold in the test case, make sure that the threshold is derived from the training and not test set. Make sure to calculate the mean (or any other metrics) only on the train data to avoid data leakage to your test set."
      ]
    },
    {
      "cell_type": "code",
      "metadata": {
        "id": "_uLfISbEeEjT"
      },
      "source": [
        "# replace missing values in Test set with mode/median from Training set\n",
        "test['Gender'].fillna(train['Gender'].mode()[0], inplace=True)\n",
        "test['Dependents'].fillna(train['Dependents'].mode()[0], inplace=True)\n",
        "test['Self_Employed'].fillna(train['Self_Employed'].mode()[0], inplace=True)\n",
        "test['Credit_History'].fillna(train['Credit_History'].mode()[0], inplace=True)\n",
        "test['Loan_Amount_Term'].fillna(train['Loan_Amount_Term'].mode()[0], inplace=True)\n",
        "test['LoanAmount'].fillna(train['LoanAmount'].median(), inplace=True)"
      ],
      "execution_count": null,
      "outputs": []
    },
    {
      "cell_type": "code",
      "metadata": {
        "colab": {
          "base_uri": "https://localhost:8080/"
        },
        "id": "gVR0ZbFzeGmO",
        "outputId": "9e8a93ee-4cf2-45c2-c08e-9fead87b6b51"
      },
      "source": [
        "# check whether all the missing values are filled in the Test dataset\n",
        "test.isnull().sum()"
      ],
      "execution_count": null,
      "outputs": [
        {
          "output_type": "execute_result",
          "data": {
            "text/plain": [
              "Loan_ID              0\n",
              "Gender               0\n",
              "Married              0\n",
              "Dependents           0\n",
              "Education            0\n",
              "Self_Employed        0\n",
              "ApplicantIncome      0\n",
              "CoapplicantIncome    0\n",
              "LoanAmount           0\n",
              "Loan_Amount_Term     0\n",
              "Credit_History       0\n",
              "Property_Area        0\n",
              "dtype: int64"
            ]
          },
          "metadata": {
            "tags": []
          },
          "execution_count": 59
        }
      ]
    },
    {
      "cell_type": "markdown",
      "metadata": {
        "id": "YywdTQCpeLGJ"
      },
      "source": [
        "As we can see that all the missing values have been filled in the Test dataset.\n",
        "\n",
        "# Outlier Treatment\n",
        "As we saw earlier in univariate analysis, LoanAmount contains outliers so we have to treat them as the presence of outliers affects the distribution of the data. Having outliers in the dataset often has a significant effect on the mean and standard deviation and hence affecting the distribution. We must take steps to remove outliers from our data sets.\n",
        "\n",
        "Due to these outliers bulk of the data in the loan amount is at the left and the right tail is longer. This is called right skewness (or positive skewness). One way to remove the skewness is by doing the log transformation. As we take the log transformation, it does not affect the smaller values much, but reduces the larger values. So, we get a distribution similar to normal distribution.\n",
        "\n",
        "Let’s visualize the effect of log transformation. We will do the similar changes to the test file simultaneously."
      ]
    },
    {
      "cell_type": "code",
      "metadata": {
        "colab": {
          "base_uri": "https://localhost:8080/",
          "height": 298
        },
        "id": "uXbTqIeOeJSS",
        "outputId": "758018d7-18fc-4ee9-e5b8-06f16b4feb14"
      },
      "source": [
        "# before log transformation\n",
        "\n",
        "ax1 = plt.subplot(121)\n",
        "train['LoanAmount'].hist(bins=20, figsize=(12,4))\n",
        "ax1.set_title(\"Train\")\n",
        "\n",
        "ax2 = plt.subplot(122)\n",
        "test['LoanAmount'].hist(bins=20)\n",
        "ax2.set_title(\"Test\")"
      ],
      "execution_count": null,
      "outputs": [
        {
          "output_type": "execute_result",
          "data": {
            "text/plain": [
              "Text(0.5, 1.0, 'Test')"
            ]
          },
          "metadata": {
            "tags": []
          },
          "execution_count": 60
        },
        {
          "output_type": "display_data",
          "data": {
            "image/png": "[encoded data removed]",
            "text/plain": [
              "<Figure size 864x288 with 2 Axes>"
            ]
          },
          "metadata": {
            "tags": [],
            "needs_background": "light"
          }
        }
      ]
    },
    {
      "cell_type": "code",
      "metadata": {
        "id": "wuRU5wrLeUJx"
      },
      "source": [
        "# Removing skewness in LoanAmount variable by log transformation\n",
        "train['LoanAmount_log'] = np.log(train['LoanAmount'])\n",
        "test['LoanAmount_log'] = np.log(test['LoanAmount'])"
      ],
      "execution_count": null,
      "outputs": []
    },
    {
      "cell_type": "code",
      "metadata": {
        "colab": {
          "base_uri": "https://localhost:8080/",
          "height": 298
        },
        "id": "pEVk7MiReVDM",
        "outputId": "07fef332-69fa-4396-af2a-c8d168432dae"
      },
      "source": [
        "# after log transformation\n",
        "\n",
        "ax1 = plt.subplot(121)\n",
        "train['LoanAmount_log'].hist(bins=20, figsize=(12,4))\n",
        "ax1.set_title(\"Train\")\n",
        "\n",
        "ax2 = plt.subplot(122)\n",
        "test['LoanAmount_log'].hist(bins=20)\n",
        "ax2.set_title(\"Test\")"
      ],
      "execution_count": null,
      "outputs": [
        {
          "output_type": "execute_result",
          "data": {
            "text/plain": [
              "Text(0.5, 1.0, 'Test')"
            ]
          },
          "metadata": {
            "tags": []
          },
          "execution_count": 62
        },
        {
          "output_type": "display_data",
          "data": {
            "image/png": "[encoded data removed]",
            "text/plain": [
              "<Figure size 864x288 with 2 Axes>"
            ]
          },
          "metadata": {
            "tags": [],
            "needs_background": "light"
          }
        }
      ]
    },
    {
      "cell_type": "markdown",
      "metadata": {
        "id": "aFXMWujieYcz"
      },
      "source": [
        "Now the distribution looks much closer to normal and effect of extreme values has been significantly subsided. Let’s build a logistic regression model and make predictions for the test dataset."
      ]
    },
    {
      "cell_type": "markdown",
      "metadata": {
        "id": "kd2vGFdfeZdX"
      },
      "source": [
        "Model Development and Evaluation\n",
        "There are four sub-sections in this stage:\n",
        "* Evaluation Metrics for Classification Problems\n",
        "* Model Building : Part I\n",
        "* Feature Engineering\n",
        "* Model Building : Part II"
      ]
    },
    {
      "cell_type": "markdown",
      "metadata": {
        "id": "r0B7qxOUfKnE"
      },
      "source": [
        "The process of model building is not complete without evaluation of model’s performance. Suppose we have the predictions from the model, how can we decide whether the predictions are accurate? We can plot the results and compare them with the actual values, i.e. calculate the distance between the predictions and actual values. Lesser this distance more accurate will be the predictions. Since this is a classification problem, we can evaluate our models using any one of the following evaluation metrics:\n",
        "\n",
        "Accuracy: Let us understand it using the confusion matrix which is a tabular representation of Actual vs Predicted values. This is how a confusion matrix looks like:"
      ]
    },
    {
      "cell_type": "markdown",
      "metadata": {
        "id": "e9QmumRxfNlv"
      },
      "source": [
        "![confusion_matrix.jpg](data:image/jpeg;base64,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)"
      ]
    },
    {
      "cell_type": "markdown",
      "metadata": {
        "id": "aJbAztcIfSy7"
      },
      "source": [
        "True Positive - Targets which are actually true(Y) and we have predicted them true(Y)\n",
        "\n",
        "True Negative - Targets which are actually false(N) and we have predicted them false(N)\n",
        "\n",
        "False Positive - Targets which are actually false(N) but we have predicted them true(T)\n",
        "\n",
        "False Negative - Targets which are actually true(T) but we have predicted them false(N)\n",
        "\n",
        "Using these values, we can calculate the accuracy of the model. The accuracy is given by:\n",
        "\n",
        "Accuracy = (TP+TN) / (TP+TN+FP+FN)\n"
      ]
    },
    {
      "cell_type": "markdown",
      "metadata": {
        "id": "ATMXU5EUfYOf"
      },
      "source": [
        "**Precision**: It is a measure of correctness achieved in true prediction i.e. of observations labeled as true, how many are actually labeled true.\n",
        "Precision = TP / (TP + FP)\n",
        "\n",
        "**Recall (Sensitivity**) - It is a measure of actual observations which are predicted correctly i.e. how many observations of true class are labeled correctly. It is also known as ‘Sensitivity’. E.g. Proportion of patients with a disease who test positive.\n",
        "Recall = TP / (TP + FN)\n",
        "\n",
        "**Specificity** - It is a measure of how many observations of false class are labeled correctly. E.g. Proportion of patients without the disease who test negative.\n",
        "\n",
        "Specificity = TN / (TN + FP)\n",
        "\n",
        "Specificity and Sensitivity plays a crucial role in deriving ROC curve."
      ]
    },
    {
      "cell_type": "markdown",
      "metadata": {
        "id": "vajnVceefmma"
      },
      "source": [
        "# ROC curve\n",
        "* Receiver Operating Characteristic(ROC) summarizes the model’s performance by evaluating the trade offs between true positive rate (Sensitivity) and false positive rate (1- Specificity).\n",
        "* The area under curve (AUC), referred to as index of accuracy(A) or concordance index, is a perfect performance metric for ROC curve. Higher the area under curve, better the prediction power of the model.\n",
        "* The area of this curve measures the ability of the model to correctly classify true positives and true negatives. We want our model to predict the true classes as true and false classes as false.\n",
        "* So it can be said that we want the true positive rate to be 1. But we are not concerned with the true positive rate only but the false positive rate too. For example in our problem, we are not only concerned about predicting the Y classes as Y but we also want N classes to be predicted as N.\n",
        "* We want to increase the area of the curve which will be maximum for class 2,3,4 and 5 in the above example.\n",
        "* For class 1 when the false positive rate is 0.2, the true positive rate is around 0.6. But for class 2 the true positive rate is 1 at the same false positive rate. So, the AUC for class 2 will be much more as compared to the AUC for class 1. So, the model for class 2 will be better.\n",
        "* The class 2,3,4 and 5 model will predict more accurately as compared to the class 0 and 1 model as the AUC is more for those classes.\n",
        "\n",
        "This is how a ROC curve looks like:\n"
      ]
    },
    {
      "cell_type": "markdown",
      "metadata": {
        "id": "hQLp4gv-gDNL"
      },
      "source": [
        "![roc.jpg](data:image/jpeg;base64,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)"
      ]
    },
    {
      "cell_type": "markdown",
      "metadata": {
        "id": "MgMcFYRrgFa1"
      },
      "source": [
        " We will be using accuracy as our evaluation metric.\n"
      ]
    },
    {
      "cell_type": "markdown",
      "metadata": {
        "id": "ypdebdzogIPT"
      },
      "source": [
        "# **Model Building : Part I**\n",
        "\n",
        "Let us make our first model to predict the target variable. We will start with Logistic Regression which is used for predicting binary outcome.\n",
        "\n",
        "* Logistic Regression is a classification algorithm. It is used to predict a binary outcome (1 / 0, Yes / No, True / False) given a set of independent variables.\n",
        "* Logistic regression is an estimation of Logit function. Logit function is simply a log of odds in favor of the event.\n",
        "* This function creates a s-shaped curve with the probability estimate, which is very similar to the required step wise function"
      ]
    },
    {
      "cell_type": "markdown",
      "metadata": {
        "id": "ZcCdwduJgmAr"
      },
      "source": [
        "Lets drop the Loan_ID variable as it do not have any effect on the loan status. We will do the same changes to the test dataset which we did for the training dataset."
      ]
    },
    {
      "cell_type": "code",
      "metadata": {
        "id": "25_rvostgiRy"
      },
      "source": [
        "# drop Loan_ID \n",
        "train = train.drop('Loan_ID', axis=1)\n",
        "test = test.drop('Loan_ID', axis=1)"
      ],
      "execution_count": null,
      "outputs": []
    },
    {
      "cell_type": "code",
      "metadata": {
        "id": "mN4S2SPggrht"
      },
      "source": [
        "# drop \"Loan_Status\" and assign it to target variable\n",
        "X = train.drop('Loan_Status', 1)\n",
        "y = train.Loan_Status"
      ],
      "execution_count": null,
      "outputs": []
    },
    {
      "cell_type": "markdown",
      "metadata": {
        "id": "uTxjfl4Nguvv"
      },
      "source": [
        "Now we will make dummy variables for the categorical variables. Dummy variable turns categorical variables into a series of 0 and 1, making them lot easier to quantify and compare. Let us understand the process of dummies first:\n",
        "\n",
        "* Consider the “Gender” variable. It has two classes, Male and Female.\n",
        "* As logistic regression takes only the numerical values as input, we have to change male and female into numerical value.\n",
        "* Once we apply dummies to this variable, it will convert the “Gender” variable into two variables(Gender_Male and Gender_Female), one for each class, i.e. Male and Female.\n",
        "* Gender_Male will have a value of 0 if the gender is Female and a value of 1 if the gender is Male.\n",
        "\n",
        "We can use pandas get_dummies function to convert categorical variable into dummy/indicator variables, it will only convert \"object\" type and will not affect numerical type."
      ]
    },
    {
      "cell_type": "code",
      "metadata": {
        "id": "Cxs7xvW9g2mr"
      },
      "source": [
        "# adding dummies to the dataset\n",
        "X = pd.get_dummies(X)\n",
        "train = pd.get_dummies(train)\n",
        "test = pd.get_dummies(test)"
      ],
      "execution_count": null,
      "outputs": []
    },
    {
      "cell_type": "code",
      "metadata": {
        "colab": {
          "base_uri": "https://localhost:8080/"
        },
        "id": "2EXOqQ41g5ds",
        "outputId": "e19137de-2ef8-4946-ca45-59a502bd35f3"
      },
      "source": [
        "X.shape, train.shape, test.shape"
      ],
      "execution_count": null,
      "outputs": [
        {
          "output_type": "execute_result",
          "data": {
            "text/plain": [
              "((614, 21), (614, 22), (367, 21))"
            ]
          },
          "metadata": {
            "tags": []
          },
          "execution_count": 66
        }
      ]
    },
    {
      "cell_type": "code",
      "metadata": {
        "colab": {
          "base_uri": "https://localhost:8080/",
          "height": 244
        },
        "id": "-VFaoqqYg769",
        "outputId": "58a2bfe9-ff1d-4f7b-da3b-b7c8609ac54c"
      },
      "source": [
        "X.head()"
      ],
      "execution_count": null,
      "outputs": [
        {
          "output_type": "execute_result",
          "data": {
            "text/html": [
              "<div>\n",
              "<style scoped>\n",
              "    .dataframe tbody tr th:only-of-type {\n",
              "        vertical-align: middle;\n",
              "    }\n",
              "\n",
              "    .dataframe tbody tr th {\n",
              "        vertical-align: top;\n",
              "    }\n",
              "\n",
              "    .dataframe thead th {\n",
              "        text-align: right;\n",
              "    }\n",
              "</style>\n",
              "<table border=\"1\" class=\"dataframe\">\n",
              "  <thead>\n",
              "    <tr style=\"text-align: right;\">\n",
              "      <th></th>\n",
              "      <th>ApplicantIncome</th>\n",
              "      <th>CoapplicantIncome</th>\n",
              "      <th>LoanAmount</th>\n",
              "      <th>Loan_Amount_Term</th>\n",
              "      <th>Credit_History</th>\n",
              "      <th>LoanAmount_log</th>\n",
              "      <th>Gender_Female</th>\n",
              "      <th>Gender_Male</th>\n",
              "      <th>Married_No</th>\n",
              "      <th>Married_Yes</th>\n",
              "      <th>Dependents_3</th>\n",
              "      <th>Dependents_0</th>\n",
              "      <th>Dependents_1</th>\n",
              "      <th>Dependents_2</th>\n",
              "      <th>Education_Graduate</th>\n",
              "      <th>Education_Not Graduate</th>\n",
              "      <th>Self_Employed_No</th>\n",
              "      <th>Self_Employed_Yes</th>\n",
              "      <th>Property_Area_Rural</th>\n",
              "      <th>Property_Area_Semiurban</th>\n",
              "      <th>Property_Area_Urban</th>\n",
              "    </tr>\n",
              "  </thead>\n",
              "  <tbody>\n",
              "    <tr>\n",
              "      <th>0</th>\n",
              "      <td>5849</td>\n",
              "      <td>0.0</td>\n",
              "      <td>128.0</td>\n",
              "      <td>360.0</td>\n",
              "      <td>1.0</td>\n",
              "      <td>4.852030</td>\n",
              "      <td>0</td>\n",
              "      <td>1</td>\n",
              "      <td>1</td>\n",
              "      <td>0</td>\n",
              "      <td>0</td>\n",
              "      <td>1</td>\n",
              "      <td>0</td>\n",
              "      <td>0</td>\n",
              "      <td>1</td>\n",
              "      <td>0</td>\n",
              "      <td>1</td>\n",
              "      <td>0</td>\n",
              "      <td>0</td>\n",
              "      <td>0</td>\n",
              "      <td>1</td>\n",
              "    </tr>\n",
              "    <tr>\n",
              "      <th>1</th>\n",
              "      <td>4583</td>\n",
              "      <td>1508.0</td>\n",
              "      <td>128.0</td>\n",
              "      <td>360.0</td>\n",
              "      <td>1.0</td>\n",
              "      <td>4.852030</td>\n",
              "      <td>0</td>\n",
              "      <td>1</td>\n",
              "      <td>0</td>\n",
              "      <td>1</td>\n",
              "      <td>0</td>\n",
              "      <td>0</td>\n",
              "      <td>1</td>\n",
              "      <td>0</td>\n",
              "      <td>1</td>\n",
              "      <td>0</td>\n",
              "      <td>1</td>\n",
              "      <td>0</td>\n",
              "      <td>1</td>\n",
              "      <td>0</td>\n",
              "      <td>0</td>\n",
              "    </tr>\n",
              "    <tr>\n",
              "      <th>2</th>\n",
              "      <td>3000</td>\n",
              "      <td>0.0</td>\n",
              "      <td>66.0</td>\n",
              "      <td>360.0</td>\n",
              "      <td>1.0</td>\n",
              "      <td>4.189655</td>\n",
              "      <td>0</td>\n",
              "      <td>1</td>\n",
              "      <td>0</td>\n",
              "      <td>1</td>\n",
              "      <td>0</td>\n",
              "      <td>1</td>\n",
              "      <td>0</td>\n",
              "      <td>0</td>\n",
              "      <td>1</td>\n",
              "      <td>0</td>\n",
              "      <td>0</td>\n",
              "      <td>1</td>\n",
              "      <td>0</td>\n",
              "      <td>0</td>\n",
              "      <td>1</td>\n",
              "    </tr>\n",
              "    <tr>\n",
              "      <th>3</th>\n",
              "      <td>2583</td>\n",
              "      <td>2358.0</td>\n",
              "      <td>120.0</td>\n",
              "      <td>360.0</td>\n",
              "      <td>1.0</td>\n",
              "      <td>4.787492</td>\n",
              "      <td>0</td>\n",
              "      <td>1</td>\n",
              "      <td>0</td>\n",
              "      <td>1</td>\n",
              "      <td>0</td>\n",
              "      <td>1</td>\n",
              "      <td>0</td>\n",
              "      <td>0</td>\n",
              "      <td>0</td>\n",
              "      <td>1</td>\n",
              "      <td>1</td>\n",
              "      <td>0</td>\n",
              "      <td>0</td>\n",
              "      <td>0</td>\n",
              "      <td>1</td>\n",
              "    </tr>\n",
              "    <tr>\n",
              "      <th>4</th>\n",
              "      <td>6000</td>\n",
              "      <td>0.0</td>\n",
              "      <td>141.0</td>\n",
              "      <td>360.0</td>\n",
              "      <td>1.0</td>\n",
              "      <td>4.948760</td>\n",
              "      <td>0</td>\n",
              "      <td>1</td>\n",
              "      <td>1</td>\n",
              "      <td>0</td>\n",
              "      <td>0</td>\n",
              "      <td>1</td>\n",
              "      <td>0</td>\n",
              "      <td>0</td>\n",
              "      <td>1</td>\n",
              "      <td>0</td>\n",
              "      <td>1</td>\n",
              "      <td>0</td>\n",
              "      <td>0</td>\n",
              "      <td>0</td>\n",
              "      <td>1</td>\n",
              "    </tr>\n",
              "  </tbody>\n",
              "</table>\n",
              "</div>"
            ],
            "text/plain": [
              "   ApplicantIncome  ...  Property_Area_Urban\n",
              "0             5849  ...                    1\n",
              "1             4583  ...                    0\n",
              "2             3000  ...                    1\n",
              "3             2583  ...                    1\n",
              "4             6000  ...                    1\n",
              "\n",
              "[5 rows x 21 columns]"
            ]
          },
          "metadata": {
            "tags": []
          },
          "execution_count": 67
        }
      ]
    },
    {
      "cell_type": "markdown",
      "metadata": {
        "id": "q7AGmZCwg-9n"
      },
      "source": [
        "Now we will train the model on training dataset and make predictions for the test dataset. But can we validate these predictions? One way of doing this is we can divide our train dataset into two parts: train and validation. We can train the model on this train part and using that make predictions for the validation part. In this way we can validate our predictions as we have the true predictions for the validation part (which we do not have for the test dataset).\n",
        "\n",
        "We will use the train_test_split function from sklearn to divide our train dataset. So, first let us import train_test_split."
      ]
    },
    {
      "cell_type": "code",
      "metadata": {
        "id": "2W4m_jYfhAGR"
      },
      "source": [
        "# import library\n",
        "from sklearn.model_selection import train_test_split"
      ],
      "execution_count": null,
      "outputs": []
    },
    {
      "cell_type": "code",
      "metadata": {
        "id": "aIdfRegfhDkP"
      },
      "source": [
        "# split the data into train and cross validation set\n",
        "x_train, x_cv, y_train, y_cv = train_test_split(X, y, test_size=0.3, random_state=0)"
      ],
      "execution_count": null,
      "outputs": []
    },
    {
      "cell_type": "code",
      "metadata": {
        "colab": {
          "base_uri": "https://localhost:8080/"
        },
        "id": "UTlusEP5hFfE",
        "outputId": "38c135d1-f433-4681-b70c-1e6d6b071a2c"
      },
      "source": [
        "# take a look at the dimension of the data\n",
        "x_train.shape, x_cv.shape, y_train.shape, y_cv.shape"
      ],
      "execution_count": null,
      "outputs": [
        {
          "output_type": "execute_result",
          "data": {
            "text/plain": [
              "((429, 21), (185, 21), (429,), (185,))"
            ]
          },
          "metadata": {
            "tags": []
          },
          "execution_count": 70
        }
      ]
    },
    {
      "cell_type": "markdown",
      "metadata": {
        "id": "6nmHQJZhhJyq"
      },
      "source": [
        "The dataset has been divided into training and validation part. Let us import LogisticRegression and accuracy_score from sklearn and fit the logistic regression model."
      ]
    },
    {
      "cell_type": "code",
      "metadata": {
        "id": "JXqpXohzhLch"
      },
      "source": [
        "# import libraries\n",
        "from sklearn.linear_model import LogisticRegression\n",
        "from sklearn.metrics import accuracy_score"
      ],
      "execution_count": null,
      "outputs": []
    },
    {
      "cell_type": "code",
      "metadata": {
        "colab": {
          "base_uri": "https://localhost:8080/"
        },
        "id": "3csa7MQJhPB9",
        "outputId": "cddc82cd-b123-4276-db16-d4644bb6cb8a"
      },
      "source": [
        "# fit the model\n",
        "model = LogisticRegression()\n",
        "model.fit(x_train, y_train)"
      ],
      "execution_count": null,
      "outputs": [
        {
          "output_type": "execute_result",
          "data": {
            "text/plain": [
              "LogisticRegression(C=1.0, class_weight=None, dual=False, fit_intercept=True,\n",
              "                   intercept_scaling=1, l1_ratio=None, max_iter=100,\n",
              "                   multi_class='auto', n_jobs=None, penalty='l2',\n",
              "                   random_state=None, solver='lbfgs', tol=0.0001, verbose=0,\n",
              "                   warm_start=False)"
            ]
          },
          "metadata": {
            "tags": []
          },
          "execution_count": 72
        }
      ]
    },
    {
      "cell_type": "markdown",
      "metadata": {
        "id": "NykGJI1ohS-I"
      },
      "source": [
        "Let’s predict the Loan_Status for validation set and calculate its accuracy."
      ]
    },
    {
      "cell_type": "code",
      "metadata": {
        "id": "ycUW9na4hP78"
      },
      "source": [
        "# make prediction\n",
        "pred_cv = model.predict(x_cv)"
      ],
      "execution_count": null,
      "outputs": []
    },
    {
      "cell_type": "markdown",
      "metadata": {
        "id": "G2l0nF1mhZuA"
      },
      "source": [
        "Let us calculate how accurate our predictions are by calculating the accuracy."
      ]
    },
    {
      "cell_type": "code",
      "metadata": {
        "colab": {
          "base_uri": "https://localhost:8080/"
        },
        "id": "Xt9RgSLMhYbE",
        "outputId": "bd54031a-36a2-4bba-d27d-446496905830"
      },
      "source": [
        "# calculate accuracy score\n",
        "accuracy_score(y_cv, pred_cv)"
      ],
      "execution_count": null,
      "outputs": [
        {
          "output_type": "execute_result",
          "data": {
            "text/plain": [
              "0.827027027027027"
            ]
          },
          "metadata": {
            "tags": []
          },
          "execution_count": 74
        }
      ]
    },
    {
      "cell_type": "markdown",
      "metadata": {
        "id": "b3fkwKq5hk2J"
      },
      "source": [
        " So our predictions are over 83% accurate, i.e. we have identified 83% of the loan status correctly.\n",
        " \n",
        "Let’s evaluate our model with the confusion matrix."
      ]
    },
    {
      "cell_type": "code",
      "metadata": {
        "colab": {
          "base_uri": "https://localhost:8080/",
          "height": 346
        },
        "id": "L3hR7mgmhmW-",
        "outputId": "40fa6f4e-49a9-48f1-aac4-38f3fb7539de"
      },
      "source": [
        "# import confusion_matrix\n",
        "from sklearn.metrics import confusion_matrix\n",
        " \n",
        "cm = confusion_matrix(y_cv, pred_cv)\n",
        "print(cm)\n",
        "\n",
        "# f, ax = plt.subplots(figsize=(9, 6))\n",
        "sns.heatmap(cm, annot=True, fmt=\"d\")\n",
        "plt.title('Confusion matrix of the classifier')\n",
        "plt.xlabel('Predicted')\n",
        "plt.ylabel('True')"
      ],
      "execution_count": null,
      "outputs": [
        {
          "output_type": "stream",
          "text": [
            "[[ 23  28]\n",
            " [  4 130]]\n"
          ],
          "name": "stdout"
        },
        {
          "output_type": "execute_result",
          "data": {
            "text/plain": [
              "Text(33.0, 0.5, 'True')"
            ]
          },
          "metadata": {
            "tags": []
          },
          "execution_count": 75
        },
        {
          "output_type": "display_data",
          "data": {
            "image/png": "[encoded data removed]",
            "text/plain": [
              "<Figure size 432x288 with 2 Axes>"
            ]
          },
          "metadata": {
            "tags": [],
            "needs_background": "light"
          }
        }
      ]
    },
    {
      "cell_type": "markdown",
      "metadata": {
        "id": "QNCHpzuUhrX0"
      },
      "source": [
        "Let's build a text report showing the main classification metrics."
      ]
    },
    {
      "cell_type": "code",
      "metadata": {
        "colab": {
          "base_uri": "https://localhost:8080/"
        },
        "id": "0-681P95hsRh",
        "outputId": "49a80192-85b8-4344-8274-ba884cc8f570"
      },
      "source": [
        "# import classification_report\n",
        "from sklearn.metrics import classification_report\n",
        "print(classification_report(y_cv, pred_cv))"
      ],
      "execution_count": null,
      "outputs": [
        {
          "output_type": "stream",
          "text": [
            "              precision    recall  f1-score   support\n",
            "\n",
            "           0       0.85      0.45      0.59        51\n",
            "           1       0.82      0.97      0.89       134\n",
            "\n",
            "    accuracy                           0.83       185\n",
            "   macro avg       0.84      0.71      0.74       185\n",
            "weighted avg       0.83      0.83      0.81       185\n",
            "\n"
          ],
          "name": "stdout"
        }
      ]
    },
    {
      "cell_type": "markdown",
      "metadata": {
        "id": "ULu1v_Q3hxhm"
      },
      "source": [
        "The performance of our model seems encouraging, with accuracy of 83%, precision of 82% and recall of 99%.\n",
        "Let’s make predictions for the test dataset and submit the result."
      ]
    },
    {
      "cell_type": "code",
      "metadata": {
        "id": "9h_8h6NdhwoA"
      },
      "source": [
        "# make prediction on test set\n",
        "pred_test = model.predict(test)"
      ],
      "execution_count": null,
      "outputs": []
    },
    {
      "cell_type": "code",
      "metadata": {
        "colab": {
          "base_uri": "https://localhost:8080/"
        },
        "id": "jicTXcRbh2zb",
        "outputId": "9b4c11d8-72e5-4edc-e6ab-afddb796f2ce"
      },
      "source": [
        "# take a look at the prediction\n",
        "pred_test[:50]"
      ],
      "execution_count": null,
      "outputs": [
        {
          "output_type": "execute_result",
          "data": {
            "text/plain": [
              "array([1, 1, 1, 1, 1, 1, 1, 0, 1, 1, 1, 1, 1, 0, 1, 1, 1, 1, 1, 1, 1, 1,\n",
              "       1, 1, 1, 0, 1, 1, 1, 1, 1, 1, 1, 1, 1, 0, 1, 1, 1, 1, 1, 1, 1, 1,\n",
              "       1, 1, 1, 1, 1, 1])"
            ]
          },
          "metadata": {
            "tags": []
          },
          "execution_count": 78
        }
      ]
    },
    {
      "cell_type": "markdown",
      "metadata": {
        "id": "YDb7YYz-h5ya"
      },
      "source": [
        "Lets import the submission file which we have to submit on the solution checker."
      ]
    },
    {
      "cell_type": "code",
      "metadata": {
        "id": "sEiA3myIh8p7"
      },
      "source": [
        "url = 'https://raw.githubusercontent.com/souravroy0708/ML_LoanPrediction/master/Data/Sample_Submission_ZAuTl8O_FK3zQHh.csv'\n",
        "submission = pd.read_csv(url)\n"
      ],
      "execution_count": null,
      "outputs": []
    },
    {
      "cell_type": "markdown",
      "metadata": {
        "id": "FPKFc1lwjZYt"
      },
      "source": [
        "We only need the Loan_ID and the corresponding Loan_Status for the final submission. we will fill these columns with the Loan_ID of test dataset and the predictions that we made, i.e., pred_test respectively."
      ]
    },
    {
      "cell_type": "code",
      "metadata": {
        "id": "rnlmQzVnjanx"
      },
      "source": [
        "# fill the Loan_ID and Loan_Status\n",
        "submission['Loan_Status'] = pred_test\n",
        "submission['Loan_ID'] = test_original['Loan_ID']"
      ],
      "execution_count": null,
      "outputs": []
    },
    {
      "cell_type": "markdown",
      "metadata": {
        "id": "TER5X1P-jd06"
      },
      "source": [
        "Remember we need predictions in Y and N. So let’s convert 1 and 0 to Y and N."
      ]
    },
    {
      "cell_type": "code",
      "metadata": {
        "id": "FUnS6gc7jeb9"
      },
      "source": [
        "# replace with \"N\" and \"Y\"\n",
        "submission['Loan_Status'].replace(0, 'N', inplace=True)\n",
        "submission['Loan_Status'].replace(1, 'Y', inplace=True)"
      ],
      "execution_count": null,
      "outputs": []
    },
    {
      "cell_type": "code",
      "metadata": {
        "colab": {
          "base_uri": "https://localhost:8080/",
          "height": 206
        },
        "id": "_x4Pxnsajht7",
        "outputId": "7d31832d-010e-408e-af36-288ea1309c13"
      },
      "source": [
        "# take a look at the submission result\n",
        "submission.head()"
      ],
      "execution_count": null,
      "outputs": [
        {
          "output_type": "execute_result",
          "data": {
            "text/html": [
              "<div>\n",
              "<style scoped>\n",
              "    .dataframe tbody tr th:only-of-type {\n",
              "        vertical-align: middle;\n",
              "    }\n",
              "\n",
              "    .dataframe tbody tr th {\n",
              "        vertical-align: top;\n",
              "    }\n",
              "\n",
              "    .dataframe thead th {\n",
              "        text-align: right;\n",
              "    }\n",
              "</style>\n",
              "<table border=\"1\" class=\"dataframe\">\n",
              "  <thead>\n",
              "    <tr style=\"text-align: right;\">\n",
              "      <th></th>\n",
              "      <th>Loan_ID</th>\n",
              "      <th>Loan_Status</th>\n",
              "    </tr>\n",
              "  </thead>\n",
              "  <tbody>\n",
              "    <tr>\n",
              "      <th>0</th>\n",
              "      <td>LP001015</td>\n",
              "      <td>Y</td>\n",
              "    </tr>\n",
              "    <tr>\n",
              "      <th>1</th>\n",
              "      <td>LP001022</td>\n",
              "      <td>Y</td>\n",
              "    </tr>\n",
              "    <tr>\n",
              "      <th>2</th>\n",
              "      <td>LP001031</td>\n",
              "      <td>Y</td>\n",
              "    </tr>\n",
              "    <tr>\n",
              "      <th>3</th>\n",
              "      <td>LP001035</td>\n",
              "      <td>Y</td>\n",
              "    </tr>\n",
              "    <tr>\n",
              "      <th>4</th>\n",
              "      <td>LP001051</td>\n",
              "      <td>Y</td>\n",
              "    </tr>\n",
              "  </tbody>\n",
              "</table>\n",
              "</div>"
            ],
            "text/plain": [
              "    Loan_ID Loan_Status\n",
              "0  LP001015           Y\n",
              "1  LP001022           Y\n",
              "2  LP001031           Y\n",
              "3  LP001035           Y\n",
              "4  LP001051           Y"
            ]
          },
          "metadata": {
            "tags": []
          },
          "execution_count": 82
        }
      ]
    },
    {
      "cell_type": "markdown",
      "metadata": {
        "id": "p0UtbtGejj3T"
      },
      "source": [
        "Finally we will convert the submission to .csv format and make submission to check the accuracy on the leaderboard."
      ]
    },
    {
      "cell_type": "code",
      "metadata": {
        "id": "_0a9MpXcjkvS"
      },
      "source": [
        "# convert to CSV file, without row index\n",
        "submission.to_csv('logistic.csv', index=False)"
      ],
      "execution_count": null,
      "outputs": []
    },
    {
      "cell_type": "markdown",
      "metadata": {
        "id": "S27r8gMzjvXU"
      },
      "source": [
        "we got an accuracy of 0.7847\n",
        "\n",
        "Instead of creating validation set, we can also make use of cross validation to validate our predictions."
      ]
    },
    {
      "cell_type": "markdown",
      "metadata": {
        "id": "4OvJaKjtlBly"
      },
      "source": [
        "# **Logistic Regression using stratified k-folds cross validation**"
      ]
    },
    {
      "cell_type": "markdown",
      "metadata": {
        "id": "oIkvUafCXAlh"
      },
      "source": [
        "To check how robust our model is to unseen data, we can use Validation. It is a technique which involves reserving a particular sample of a dataset on which you do not train the model. Later, you test your model on this sample before finalizing it. Some of the common methods for validation are listed below:\n",
        "* The validation set approach\n",
        "* k-fold cross validation\n",
        "* Leave one out cross validation (LOOCV)\n",
        "* Stratified k-fold cross validation\n"
      ]
    },
    {
      "cell_type": "markdown",
      "metadata": {
        "id": "WvtIYF5eXoSM"
      },
      "source": [
        "![kfold.jpg](data:image/jpeg;base64,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)"
      ]
    },
    {
      "cell_type": "code",
      "metadata": {
        "id": "W8lXuQ3XVMWN"
      },
      "source": [
        "# import StratifiedKFold from sklearn and fit the model\n",
        "from sklearn.model_selection import StratifiedKFold"
      ],
      "execution_count": null,
      "outputs": []
    },
    {
      "cell_type": "markdown",
      "metadata": {
        "id": "YDZmN_VlX2dI"
      },
      "source": [
        "Now let’s make a cross validation logistic model with stratified 5 folds and make predictions for test dataset. The folds are made by preserving the percentage of samples for each class. In stratified k-fold, each fold contains roughly the same proportions of the different types of class labels.\n",
        "\n",
        "**Note**: Previously, we use train_test_split to split the data, in this example we will use StratifiedKFold to split the data, the final accuracy score might be slightly differently"
      ]
    },
    {
      "cell_type": "code",
      "metadata": {
        "colab": {
          "base_uri": "https://localhost:8080/"
        },
        "id": "XCKN8h9YX0AW",
        "outputId": "03b23ba6-dc59-4df1-e0ec-3b4da2844fe8"
      },
      "source": [
        "# stratified 5 folds, shuffle each stratification of the data before splitting into batches\n",
        "\n",
        "mean_accuracy = []\n",
        "i = 1\n",
        "kf = StratifiedKFold(n_splits=5, random_state=1, shuffle=True)\n",
        "\n",
        "for train_index, test_index in kf.split(X, y):\n",
        "    print('\\n{} of kfold {}'.format(i, kf.n_splits))\n",
        "    xtr, xvl = X.loc[train_index], X.loc[test_index]\n",
        "    ytr, yvl = y[train_index], y[test_index]\n",
        "    \n",
        "    model = LogisticRegression(random_state=1)\n",
        "    model.fit(xtr, ytr)\n",
        "    pred_test = model.predict(xvl)\n",
        "    score = accuracy_score(yvl, pred_test)\n",
        "    mean_accuracy.append(score)\n",
        "    print('accuracy_score', score)\n",
        "    i+=1\n",
        "    \n",
        "print(\"\\nMean validation accuracy: \", sum(mean_accuracy)/len(mean_accuracy))\n",
        "\n",
        "\n",
        "# make prediction on test set\n",
        "pred_test = model.predict(test)\n",
        "\n",
        "\n",
        "# calculate probability estimates of loan approval\n",
        "# column 0 is the probability for class 0 and column 1 is the probability for class 1\n",
        "# probability of loan default = 1 - model.predict_proba(test)[:,1]\n",
        "pred = model.predict_proba(xvl)[:,1]\n"
      ],
      "execution_count": null,
      "outputs": [
        {
          "output_type": "stream",
          "text": [
            "\n",
            "1 of kfold 5\n",
            "accuracy_score 0.8048780487804879\n",
            "\n",
            "2 of kfold 5\n",
            "accuracy_score 0.8373983739837398\n",
            "\n",
            "3 of kfold 5\n",
            "accuracy_score 0.7804878048780488\n",
            "\n",
            "4 of kfold 5\n",
            "accuracy_score 0.7886178861788617\n",
            "\n",
            "5 of kfold 5\n",
            "accuracy_score 0.7950819672131147\n",
            "\n",
            "Mean validation accuracy:  0.8012928162068507\n"
          ],
          "name": "stdout"
        }
      ]
    },
    {
      "cell_type": "markdown",
      "metadata": {
        "id": "T2SvrOszYIkN"
      },
      "source": [
        "The mean validation accuracy for this model turns out to be 0.81. Let us visualize the ROC curve."
      ]
    },
    {
      "cell_type": "code",
      "metadata": {
        "colab": {
          "base_uri": "https://localhost:8080/",
          "height": 497
        },
        "id": "43SmKD8AYEzI",
        "outputId": "c607ba75-eac7-4c29-e5d3-d5e750d22105"
      },
      "source": [
        "# visualize ROC curve\n",
        "from sklearn import metrics\n",
        "fpr, tpr, _ = metrics.roc_curve(yvl,  pred)\n",
        "auc = metrics.roc_auc_score(yvl, pred)\n",
        "plt.figure(figsize=(12,8))\n",
        "plt.plot(fpr,tpr,label=\"validation, auc=\"+str(auc))\n",
        "plt.xlabel('False Positive Rate')\n",
        "plt.ylabel('True Positive Rate')\n",
        "plt.legend(loc=4)\n",
        "plt.show()"
      ],
      "execution_count": null,
      "outputs": [
        {
          "output_type": "display_data",
          "data": {
            "image/png": "[encoded data removed]",
            "text/plain": [
              "<Figure size 864x576 with 1 Axes>"
            ]
          },
          "metadata": {
            "tags": [],
            "needs_background": "light"
          }
        }
      ]
    },
    {
      "cell_type": "markdown",
      "metadata": {
        "id": "xkWSvi6wYPNO"
      },
      "source": [
        "We got an AUC (\"Area Under Curve\") value of 0.77."
      ]
    },
    {
      "cell_type": "code",
      "metadata": {
        "id": "RAUxMKAoYOH5"
      },
      "source": [
        "submission['Loan_Status'] = pred_test\n",
        "submission['Loan_ID'] = test_original['Loan_ID']"
      ],
      "execution_count": null,
      "outputs": []
    },
    {
      "cell_type": "code",
      "metadata": {
        "id": "PkxhP6wOYU5w"
      },
      "source": [
        "submission['Loan_Status'].replace(0, 'N', inplace=True)\n",
        "submission['Loan_Status'].replace(1, 'Y', inplace=True)"
      ],
      "execution_count": null,
      "outputs": []
    },
    {
      "cell_type": "markdown",
      "metadata": {
        "id": "jofaIMsEYYpi"
      },
      "source": [
        "## **Feature Engineering**"
      ]
    },
    {
      "cell_type": "markdown",
      "metadata": {
        "id": "bP2c1zPiYhgM"
      },
      "source": [
        "Based on the domain knowledge, we can come up with new features that might affect the target variable. We will create the following three new features:\n",
        "* Total Income - As discussed during bivariate analysis we will combine the Applicant Income and Coapplicant Income. If the total income is high, chances of loan approval might also be high.\n",
        "* Equated Monthly Installment - EMI is the monthly amount to be paid by the applicant to repay the loan. Idea behind making this variable is that people who have high EMI’s might find it difficult to pay back the loan. We can calculate the EMI by taking the ratio of loan amount with respect to loan amount term.\n",
        "* Balance Income - This is the income left after the EMI has been paid. Idea behind creating this variable is that if this value is high, the chances are high that a person will repay the loan and hence increasing the chances of loan approval."
      ]
    },
    {
      "cell_type": "code",
      "metadata": {
        "id": "qs4n6sCkYX3H"
      },
      "source": [
        "# combine Applicant Income and Coapplicant Income into a new variable\n",
        "train['Total_Income'] = train['ApplicantIncome'] + train['CoapplicantIncome']\n",
        "test['Total_Income'] = test['ApplicantIncome'] + test['CoapplicantIncome']"
      ],
      "execution_count": null,
      "outputs": []
    },
    {
      "cell_type": "code",
      "metadata": {
        "colab": {
          "base_uri": "https://localhost:8080/",
          "height": 313
        },
        "id": "BDrIkivrYqlN",
        "outputId": "fc495c05-1358-4069-ef36-6d6731c54fbd"
      },
      "source": [
        "# check the distribution of Total Income\n",
        "# before log transformation\n",
        "\n",
        "fig = plt.figure(figsize=(14, 4))\n",
        "ax1 = plt.subplot(121)\n",
        "sns.distplot(train['Total_Income'])\n",
        " \n",
        "ax1.set_title(\"Train\")\n",
        "\n",
        "ax1 = plt.subplot(122)\n",
        "sns.distplot(test['Total_Income'])\n",
        "ax1.set_title(\"Test\")"
      ],
      "execution_count": null,
      "outputs": [
        {
          "output_type": "execute_result",
          "data": {
            "text/plain": [
              "Text(0.5, 1.0, 'Test')"
            ]
          },
          "metadata": {
            "tags": []
          },
          "execution_count": 92
        },
        {
          "output_type": "display_data",
          "data": {
            "image/png": "[encoded data removed]",
            "text/plain": [
              "<Figure size 1008x288 with 2 Axes>"
            ]
          },
          "metadata": {
            "tags": [],
            "needs_background": "light"
          }
        }
      ]
    },
    {
      "cell_type": "code",
      "metadata": {
        "id": "humrIGVnYu1H"
      },
      "source": [
        "# log transformation\n",
        "train['Total_Income_log'] = np.log(train['Total_Income'])\n",
        "test['Total_Income_log'] = np.log(test['Total_Income'])"
      ],
      "execution_count": null,
      "outputs": []
    },
    {
      "cell_type": "code",
      "metadata": {
        "colab": {
          "base_uri": "https://localhost:8080/",
          "height": 313
        },
        "id": "wQDujbMQYxBb",
        "outputId": "97a8575d-512e-4b08-e800-cd9cde8e2791"
      },
      "source": [
        "# after log transformation\n",
        "fig = plt.figure(figsize=(14, 4))\n",
        "ax1 = plt.subplot(121)\n",
        "sns.distplot(train['Total_Income_log'])\n",
        "ax1.set_title(\"Train\")\n",
        "\n",
        "ax1 = plt.subplot(122)\n",
        "sns.distplot(test['Total_Income_log'])\n",
        "ax1.set_title(\"Test\")"
      ],
      "execution_count": null,
      "outputs": [
        {
          "output_type": "execute_result",
          "data": {
            "text/plain": [
              "Text(0.5, 1.0, 'Test')"
            ]
          },
          "metadata": {
            "tags": []
          },
          "execution_count": 94
        },
        {
          "output_type": "display_data",
          "data": {
            "image/png": "[encoded data removed]",
            "text/plain": [
              "<Figure size 1008x288 with 2 Axes>"
            ]
          },
          "metadata": {
            "tags": [],
            "needs_background": "light"
          }
        }
      ]
    },
    {
      "cell_type": "code",
      "metadata": {
        "id": "GWsU4OH-Y5xG"
      },
      "source": [
        "# Let’s create the EMI feature now. We can calculate the EMI by taking the ratio of loan amount with respect to loan amount term. It is just an approximation of actual EMI.\n",
        "# create EMI feature\n",
        "train['EMI'] = train['LoanAmount'] / train['Loan_Amount_Term']\n",
        "test['EMI'] = test['LoanAmount'] / test['Loan_Amount_Term']"
      ],
      "execution_count": null,
      "outputs": []
    },
    {
      "cell_type": "code",
      "metadata": {
        "colab": {
          "base_uri": "https://localhost:8080/",
          "height": 312
        },
        "id": "XMy5_4YEZBG4",
        "outputId": "53b21435-3f24-4cef-ac1e-108160d53c0a"
      },
      "source": [
        "# check the distribution of EMI\n",
        "\n",
        "fig = plt.figure(figsize=(14, 4))\n",
        "ax1 = plt.subplot(121)\n",
        "sns.distplot(train['EMI'])\n",
        "ax1.set_title(\"Train\")\n",
        "\n",
        "ax1 = plt.subplot(122)\n",
        "sns.distplot(test['EMI'])\n",
        "ax1.set_title(\"Test\")"
      ],
      "execution_count": null,
      "outputs": [
        {
          "output_type": "execute_result",
          "data": {
            "text/plain": [
              "Text(0.5, 1.0, 'Test')"
            ]
          },
          "metadata": {
            "tags": []
          },
          "execution_count": 96
        },
        {
          "output_type": "display_data",
          "data": {
            "image/png": "[encoded data removed]",
            "text/plain": [
              "<Figure size 1008x288 with 2 Axes>"
            ]
          },
          "metadata": {
            "tags": [],
            "needs_background": "light"
          }
        }
      ]
    },
    {
      "cell_type": "code",
      "metadata": {
        "id": "qJLSbtd1ZDWE"
      },
      "source": [
        "# create new \"Balance Income\" variable\n",
        "train['Balance Income'] = train['Total_Income'] - (train['EMI']*1000) # Multiply with 1000 to make the units equal \n",
        "test['Balance Income'] = test['Total_Income'] - (test['EMI']*1000)"
      ],
      "execution_count": null,
      "outputs": []
    },
    {
      "cell_type": "code",
      "metadata": {
        "colab": {
          "base_uri": "https://localhost:8080/",
          "height": 312
        },
        "id": "vUqxGVpOZFnp",
        "outputId": "c73d6746-0647-43b9-cc18-a19763cf2f29"
      },
      "source": [
        "# check the distribution of EMI\n",
        "# before log transformation\n",
        "\n",
        "fig = plt.figure(figsize=(14, 4))\n",
        "ax1 = plt.subplot(121)\n",
        "sns.distplot(train['Balance Income'])\n",
        "ax1.set_title(\"Train\")\n",
        "\n",
        "ax1 = plt.subplot(122)\n",
        "sns.distplot(test['Balance Income'])\n",
        "ax1.set_title(\"Test\")"
      ],
      "execution_count": null,
      "outputs": [
        {
          "output_type": "execute_result",
          "data": {
            "text/plain": [
              "Text(0.5, 1.0, 'Test')"
            ]
          },
          "metadata": {
            "tags": []
          },
          "execution_count": 98
        },
        {
          "output_type": "display_data",
          "data": {
            "image/png": "[encoded data removed]",
            "text/plain": [
              "<Figure size 1008x288 with 2 Axes>"
            ]
          },
          "metadata": {
            "tags": [],
            "needs_background": "light"
          }
        }
      ]
    },
    {
      "cell_type": "code",
      "metadata": {
        "colab": {
          "base_uri": "https://localhost:8080/",
          "height": 244
        },
        "id": "3gzEbWRBZJGl",
        "outputId": "685772f9-da32-4c78-c9f2-e61fc047328c"
      },
      "source": [
        "# before dropping variables\n",
        "train.head()"
      ],
      "execution_count": null,
      "outputs": [
        {
          "output_type": "execute_result",
          "data": {
            "text/html": [
              "<div>\n",
              "<style scoped>\n",
              "    .dataframe tbody tr th:only-of-type {\n",
              "        vertical-align: middle;\n",
              "    }\n",
              "\n",
              "    .dataframe tbody tr th {\n",
              "        vertical-align: top;\n",
              "    }\n",
              "\n",
              "    .dataframe thead th {\n",
              "        text-align: right;\n",
              "    }\n",
              "</style>\n",
              "<table border=\"1\" class=\"dataframe\">\n",
              "  <thead>\n",
              "    <tr style=\"text-align: right;\">\n",
              "      <th></th>\n",
              "      <th>ApplicantIncome</th>\n",
              "      <th>CoapplicantIncome</th>\n",
              "      <th>LoanAmount</th>\n",
              "      <th>Loan_Amount_Term</th>\n",
              "      <th>Credit_History</th>\n",
              "      <th>Loan_Status</th>\n",
              "      <th>LoanAmount_log</th>\n",
              "      <th>Gender_Female</th>\n",
              "      <th>Gender_Male</th>\n",
              "      <th>Married_No</th>\n",
              "      <th>Married_Yes</th>\n",
              "      <th>Dependents_3</th>\n",
              "      <th>Dependents_0</th>\n",
              "      <th>Dependents_1</th>\n",
              "      <th>Dependents_2</th>\n",
              "      <th>Education_Graduate</th>\n",
              "      <th>Education_Not Graduate</th>\n",
              "      <th>Self_Employed_No</th>\n",
              "      <th>Self_Employed_Yes</th>\n",
              "      <th>Property_Area_Rural</th>\n",
              "      <th>Property_Area_Semiurban</th>\n",
              "      <th>Property_Area_Urban</th>\n",
              "      <th>Total_Income</th>\n",
              "      <th>Total_Income_log</th>\n",
              "      <th>EMI</th>\n",
              "      <th>Balance Income</th>\n",
              "    </tr>\n",
              "  </thead>\n",
              "  <tbody>\n",
              "    <tr>\n",
              "      <th>0</th>\n",
              "      <td>5849</td>\n",
              "      <td>0.0</td>\n",
              "      <td>128.0</td>\n",
              "      <td>360.0</td>\n",
              "      <td>1.0</td>\n",
              "      <td>1</td>\n",
              "      <td>4.852030</td>\n",
              "      <td>0</td>\n",
              "      <td>1</td>\n",
              "      <td>1</td>\n",
              "      <td>0</td>\n",
              "      <td>0</td>\n",
              "      <td>1</td>\n",
              "      <td>0</td>\n",
              "      <td>0</td>\n",
              "      <td>1</td>\n",
              "      <td>0</td>\n",
              "      <td>1</td>\n",
              "      <td>0</td>\n",
              "      <td>0</td>\n",
              "      <td>0</td>\n",
              "      <td>1</td>\n",
              "      <td>5849.0</td>\n",
              "      <td>8.674026</td>\n",
              "      <td>0.355556</td>\n",
              "      <td>5493.444444</td>\n",
              "    </tr>\n",
              "    <tr>\n",
              "      <th>1</th>\n",
              "      <td>4583</td>\n",
              "      <td>1508.0</td>\n",
              "      <td>128.0</td>\n",
              "      <td>360.0</td>\n",
              "      <td>1.0</td>\n",
              "      <td>0</td>\n",
              "      <td>4.852030</td>\n",
              "      <td>0</td>\n",
              "      <td>1</td>\n",
              "      <td>0</td>\n",
              "      <td>1</td>\n",
              "      <td>0</td>\n",
              "      <td>0</td>\n",
              "      <td>1</td>\n",
              "      <td>0</td>\n",
              "      <td>1</td>\n",
              "      <td>0</td>\n",
              "      <td>1</td>\n",
              "      <td>0</td>\n",
              "      <td>1</td>\n",
              "      <td>0</td>\n",
              "      <td>0</td>\n",
              "      <td>6091.0</td>\n",
              "      <td>8.714568</td>\n",
              "      <td>0.355556</td>\n",
              "      <td>5735.444444</td>\n",
              "    </tr>\n",
              "    <tr>\n",
              "      <th>2</th>\n",
              "      <td>3000</td>\n",
              "      <td>0.0</td>\n",
              "      <td>66.0</td>\n",
              "      <td>360.0</td>\n",
              "      <td>1.0</td>\n",
              "      <td>1</td>\n",
              "      <td>4.189655</td>\n",
              "      <td>0</td>\n",
              "      <td>1</td>\n",
              "      <td>0</td>\n",
              "      <td>1</td>\n",
              "      <td>0</td>\n",
              "      <td>1</td>\n",
              "      <td>0</td>\n",
              "      <td>0</td>\n",
              "      <td>1</td>\n",
              "      <td>0</td>\n",
              "      <td>0</td>\n",
              "      <td>1</td>\n",
              "      <td>0</td>\n",
              "      <td>0</td>\n",
              "      <td>1</td>\n",
              "      <td>3000.0</td>\n",
              "      <td>8.006368</td>\n",
              "      <td>0.183333</td>\n",
              "      <td>2816.666667</td>\n",
              "    </tr>\n",
              "    <tr>\n",
              "      <th>3</th>\n",
              "      <td>2583</td>\n",
              "      <td>2358.0</td>\n",
              "      <td>120.0</td>\n",
              "      <td>360.0</td>\n",
              "      <td>1.0</td>\n",
              "      <td>1</td>\n",
              "      <td>4.787492</td>\n",
              "      <td>0</td>\n",
              "      <td>1</td>\n",
              "      <td>0</td>\n",
              "      <td>1</td>\n",
              "      <td>0</td>\n",
              "      <td>1</td>\n",
              "      <td>0</td>\n",
              "      <td>0</td>\n",
              "      <td>0</td>\n",
              "      <td>1</td>\n",
              "      <td>1</td>\n",
              "      <td>0</td>\n",
              "      <td>0</td>\n",
              "      <td>0</td>\n",
              "      <td>1</td>\n",
              "      <td>4941.0</td>\n",
              "      <td>8.505323</td>\n",
              "      <td>0.333333</td>\n",
              "      <td>4607.666667</td>\n",
              "    </tr>\n",
              "    <tr>\n",
              "      <th>4</th>\n",
              "      <td>6000</td>\n",
              "      <td>0.0</td>\n",
              "      <td>141.0</td>\n",
              "      <td>360.0</td>\n",
              "      <td>1.0</td>\n",
              "      <td>1</td>\n",
              "      <td>4.948760</td>\n",
              "      <td>0</td>\n",
              "      <td>1</td>\n",
              "      <td>1</td>\n",
              "      <td>0</td>\n",
              "      <td>0</td>\n",
              "      <td>1</td>\n",
              "      <td>0</td>\n",
              "      <td>0</td>\n",
              "      <td>1</td>\n",
              "      <td>0</td>\n",
              "      <td>1</td>\n",
              "      <td>0</td>\n",
              "      <td>0</td>\n",
              "      <td>0</td>\n",
              "      <td>1</td>\n",
              "      <td>6000.0</td>\n",
              "      <td>8.699515</td>\n",
              "      <td>0.391667</td>\n",
              "      <td>5608.333333</td>\n",
              "    </tr>\n",
              "  </tbody>\n",
              "</table>\n",
              "</div>"
            ],
            "text/plain": [
              "   ApplicantIncome  CoapplicantIncome  ...       EMI  Balance Income\n",
              "0             5849                0.0  ...  0.355556     5493.444444\n",
              "1             4583             1508.0  ...  0.355556     5735.444444\n",
              "2             3000                0.0  ...  0.183333     2816.666667\n",
              "3             2583             2358.0  ...  0.333333     4607.666667\n",
              "4             6000                0.0  ...  0.391667     5608.333333\n",
              "\n",
              "[5 rows x 26 columns]"
            ]
          },
          "metadata": {
            "tags": []
          },
          "execution_count": 99
        }
      ]
    },
    {
      "cell_type": "code",
      "metadata": {
        "id": "wrx7m65dZLbk"
      },
      "source": [
        "# drop the variables\n",
        "train = train.drop(['ApplicantIncome', 'CoapplicantIncome', 'LoanAmount', 'Loan_Amount_Term'], axis=1)\n",
        "test = test.drop(['ApplicantIncome', 'CoapplicantIncome', 'LoanAmount', 'Loan_Amount_Term'], axis=1)"
      ],
      "execution_count": null,
      "outputs": []
    },
    {
      "cell_type": "code",
      "metadata": {
        "colab": {
          "base_uri": "https://localhost:8080/",
          "height": 244
        },
        "id": "bFK844lfZNak",
        "outputId": "d907c431-11b7-4cda-a606-7ca165ec627a"
      },
      "source": [
        "# after dropping variables\n",
        "train.head()"
      ],
      "execution_count": null,
      "outputs": [
        {
          "output_type": "execute_result",
          "data": {
            "text/html": [
              "<div>\n",
              "<style scoped>\n",
              "    .dataframe tbody tr th:only-of-type {\n",
              "        vertical-align: middle;\n",
              "    }\n",
              "\n",
              "    .dataframe tbody tr th {\n",
              "        vertical-align: top;\n",
              "    }\n",
              "\n",
              "    .dataframe thead th {\n",
              "        text-align: right;\n",
              "    }\n",
              "</style>\n",
              "<table border=\"1\" class=\"dataframe\">\n",
              "  <thead>\n",
              "    <tr style=\"text-align: right;\">\n",
              "      <th></th>\n",
              "      <th>Credit_History</th>\n",
              "      <th>Loan_Status</th>\n",
              "      <th>LoanAmount_log</th>\n",
              "      <th>Gender_Female</th>\n",
              "      <th>Gender_Male</th>\n",
              "      <th>Married_No</th>\n",
              "      <th>Married_Yes</th>\n",
              "      <th>Dependents_3</th>\n",
              "      <th>Dependents_0</th>\n",
              "      <th>Dependents_1</th>\n",
              "      <th>Dependents_2</th>\n",
              "      <th>Education_Graduate</th>\n",
              "      <th>Education_Not Graduate</th>\n",
              "      <th>Self_Employed_No</th>\n",
              "      <th>Self_Employed_Yes</th>\n",
              "      <th>Property_Area_Rural</th>\n",
              "      <th>Property_Area_Semiurban</th>\n",
              "      <th>Property_Area_Urban</th>\n",
              "      <th>Total_Income</th>\n",
              "      <th>Total_Income_log</th>\n",
              "      <th>EMI</th>\n",
              "      <th>Balance Income</th>\n",
              "    </tr>\n",
              "  </thead>\n",
              "  <tbody>\n",
              "    <tr>\n",
              "      <th>0</th>\n",
              "      <td>1.0</td>\n",
              "      <td>1</td>\n",
              "      <td>4.852030</td>\n",
              "      <td>0</td>\n",
              "      <td>1</td>\n",
              "      <td>1</td>\n",
              "      <td>0</td>\n",
              "      <td>0</td>\n",
              "      <td>1</td>\n",
              "      <td>0</td>\n",
              "      <td>0</td>\n",
              "      <td>1</td>\n",
              "      <td>0</td>\n",
              "      <td>1</td>\n",
              "      <td>0</td>\n",
              "      <td>0</td>\n",
              "      <td>0</td>\n",
              "      <td>1</td>\n",
              "      <td>5849.0</td>\n",
              "      <td>8.674026</td>\n",
              "      <td>0.355556</td>\n",
              "      <td>5493.444444</td>\n",
              "    </tr>\n",
              "    <tr>\n",
              "      <th>1</th>\n",
              "      <td>1.0</td>\n",
              "      <td>0</td>\n",
              "      <td>4.852030</td>\n",
              "      <td>0</td>\n",
              "      <td>1</td>\n",
              "      <td>0</td>\n",
              "      <td>1</td>\n",
              "      <td>0</td>\n",
              "      <td>0</td>\n",
              "      <td>1</td>\n",
              "      <td>0</td>\n",
              "      <td>1</td>\n",
              "      <td>0</td>\n",
              "      <td>1</td>\n",
              "      <td>0</td>\n",
              "      <td>1</td>\n",
              "      <td>0</td>\n",
              "      <td>0</td>\n",
              "      <td>6091.0</td>\n",
              "      <td>8.714568</td>\n",
              "      <td>0.355556</td>\n",
              "      <td>5735.444444</td>\n",
              "    </tr>\n",
              "    <tr>\n",
              "      <th>2</th>\n",
              "      <td>1.0</td>\n",
              "      <td>1</td>\n",
              "      <td>4.189655</td>\n",
              "      <td>0</td>\n",
              "      <td>1</td>\n",
              "      <td>0</td>\n",
              "      <td>1</td>\n",
              "      <td>0</td>\n",
              "      <td>1</td>\n",
              "      <td>0</td>\n",
              "      <td>0</td>\n",
              "      <td>1</td>\n",
              "      <td>0</td>\n",
              "      <td>0</td>\n",
              "      <td>1</td>\n",
              "      <td>0</td>\n",
              "      <td>0</td>\n",
              "      <td>1</td>\n",
              "      <td>3000.0</td>\n",
              "      <td>8.006368</td>\n",
              "      <td>0.183333</td>\n",
              "      <td>2816.666667</td>\n",
              "    </tr>\n",
              "    <tr>\n",
              "      <th>3</th>\n",
              "      <td>1.0</td>\n",
              "      <td>1</td>\n",
              "      <td>4.787492</td>\n",
              "      <td>0</td>\n",
              "      <td>1</td>\n",
              "      <td>0</td>\n",
              "      <td>1</td>\n",
              "      <td>0</td>\n",
              "      <td>1</td>\n",
              "      <td>0</td>\n",
              "      <td>0</td>\n",
              "      <td>0</td>\n",
              "      <td>1</td>\n",
              "      <td>1</td>\n",
              "      <td>0</td>\n",
              "      <td>0</td>\n",
              "      <td>0</td>\n",
              "      <td>1</td>\n",
              "      <td>4941.0</td>\n",
              "      <td>8.505323</td>\n",
              "      <td>0.333333</td>\n",
              "      <td>4607.666667</td>\n",
              "    </tr>\n",
              "    <tr>\n",
              "      <th>4</th>\n",
              "      <td>1.0</td>\n",
              "      <td>1</td>\n",
              "      <td>4.948760</td>\n",
              "      <td>0</td>\n",
              "      <td>1</td>\n",
              "      <td>1</td>\n",
              "      <td>0</td>\n",
              "      <td>0</td>\n",
              "      <td>1</td>\n",
              "      <td>0</td>\n",
              "      <td>0</td>\n",
              "      <td>1</td>\n",
              "      <td>0</td>\n",
              "      <td>1</td>\n",
              "      <td>0</td>\n",
              "      <td>0</td>\n",
              "      <td>0</td>\n",
              "      <td>1</td>\n",
              "      <td>6000.0</td>\n",
              "      <td>8.699515</td>\n",
              "      <td>0.391667</td>\n",
              "      <td>5608.333333</td>\n",
              "    </tr>\n",
              "  </tbody>\n",
              "</table>\n",
              "</div>"
            ],
            "text/plain": [
              "   Credit_History  Loan_Status  ...       EMI  Balance Income\n",
              "0             1.0            1  ...  0.355556     5493.444444\n",
              "1             1.0            0  ...  0.355556     5735.444444\n",
              "2             1.0            1  ...  0.183333     2816.666667\n",
              "3             1.0            1  ...  0.333333     4607.666667\n",
              "4             1.0            1  ...  0.391667     5608.333333\n",
              "\n",
              "[5 rows x 22 columns]"
            ]
          },
          "metadata": {
            "tags": []
          },
          "execution_count": 101
        }
      ]
    },
    {
      "cell_type": "markdown",
      "metadata": {
        "id": "HLEIpUnuZRhE"
      },
      "source": [
        "# Model Building : Part II"
      ]
    },
    {
      "cell_type": "markdown",
      "metadata": {
        "id": "cS7gGUgsZT8w"
      },
      "source": [
        "We will start with logistic regression model and then move over to more complex models like RandomForest and XGBoost.\n",
        "We will build the following models in this section.\n",
        "* Logistic Regression\n",
        "* Decision Tree\n",
        "* Random Forest\n",
        "* XGBoost"
      ]
    },
    {
      "cell_type": "code",
      "metadata": {
        "id": "tl5ceIrwZTWH"
      },
      "source": [
        "# drop \"Loan_Status\" and assign it to target variable\n",
        "X = train.drop('Loan_Status', axis=1)\n",
        "y = train.Loan_Status                # Save target variable in separate dataset"
      ],
      "execution_count": null,
      "outputs": []
    },
    {
      "cell_type": "markdown",
      "metadata": {
        "id": "yctxIrD-ZidO"
      },
      "source": [
        "\n",
        "## **Logistic Regression**"
      ]
    },
    {
      "cell_type": "code",
      "metadata": {
        "colab": {
          "base_uri": "https://localhost:8080/"
        },
        "id": "vtci27isZgUG",
        "outputId": "8da7d7d2-aa11-4ea0-c34d-b096ed132a5e"
      },
      "source": [
        "# stratified 5 folds, shuffle each stratification of the data before splitting into batches\n",
        "\n",
        "mean_accuracy = []\n",
        "i = 1\n",
        "kf = StratifiedKFold(n_splits=5, random_state=1, shuffle=True)\n",
        "\n",
        "for train_index, test_index in kf.split(X, y):\n",
        "    print('\\n{} of kfold {}'.format(i, kf.n_splits))\n",
        "    xtr, xvl = X.loc[train_index], X.loc[test_index]\n",
        "    ytr, yvl = y[train_index], y[test_index]\n",
        "    \n",
        "    model = LogisticRegression(random_state=1)\n",
        "    model.fit(xtr, ytr)\n",
        "    pred_test = model.predict(xvl)\n",
        "    score = accuracy_score(yvl, pred_test)\n",
        "    mean_accuracy.append(score)\n",
        "    print('accuracy_score', score)\n",
        "    i+=1\n",
        "    \n",
        "print(\"\\nMean validation accuracy: \", sum(mean_accuracy)/len(mean_accuracy))\n",
        "\n",
        "\n",
        "# make prediction on test set\n",
        "pred_test = model.predict(test)\n",
        "\n",
        "\n",
        "# calculate probability estimates of loan approval\n",
        "# column 0 is the probability for class 0 and column 1 is the probability for class 1\n",
        "# probability of loan default = 1 - model.predict_proba(test)[:,1]\n",
        "pred = model.predict_proba(xvl)[:,1]"
      ],
      "execution_count": null,
      "outputs": [
        {
          "output_type": "stream",
          "text": [
            "\n",
            "1 of kfold 5\n",
            "accuracy_score 0.7886178861788617\n",
            "\n",
            "2 of kfold 5\n",
            "accuracy_score 0.6910569105691057\n",
            "\n",
            "3 of kfold 5\n",
            "accuracy_score 0.6666666666666666\n",
            "\n",
            "4 of kfold 5\n",
            "accuracy_score 0.7804878048780488\n",
            "\n",
            "5 of kfold 5\n",
            "accuracy_score 0.680327868852459\n",
            "\n",
            "Mean validation accuracy:  0.7214314274290283\n"
          ],
          "name": "stdout"
        }
      ]
    },
    {
      "cell_type": "code",
      "metadata": {
        "id": "QfVlsFv9Zrj_"
      },
      "source": [
        "# filling Loan_Status with predictions\n",
        "submission['Loan_Status'] = pred_test\n",
        "\n",
        "# filling Loan_ID with test Loan_ID\n",
        "submission['Loan_ID'] = test_original['Loan_ID']"
      ],
      "execution_count": null,
      "outputs": []
    },
    {
      "cell_type": "code",
      "metadata": {
        "id": "KXhAoM17Zu90"
      },
      "source": [
        "# replacing 0 and 1 with N and Y\n",
        "submission['Loan_Status'].replace(0, 'N', inplace=True)\n",
        "submission['Loan_Status'].replace(1, 'Y', inplace=True)"
      ],
      "execution_count": null,
      "outputs": []
    },
    {
      "cell_type": "code",
      "metadata": {
        "id": "YPKcOpQUZzdV"
      },
      "source": [
        "# Converting submission file to .csv format\n",
        "submission.to_csv('Log2.csv', index=False)"
      ],
      "execution_count": null,
      "outputs": []
    },
    {
      "cell_type": "markdown",
      "metadata": {
        "id": "4zy8aVjUZ4I0"
      },
      "source": [
        "# **Decision Tree**"
      ]
    },
    {
      "cell_type": "markdown",
      "metadata": {
        "id": "un0OukCuZ8m1"
      },
      "source": [
        "Decision tree is a type of supervised learning algorithm(having a pre-defined target variable) that is mostly used in classification problems. In this technique, we split the population or sample into two or more homogeneous sets(or sub-populations) based on most significant splitter / differentiator in input variables."
      ]
    },
    {
      "cell_type": "code",
      "metadata": {
        "id": "5PPd_KrtZ61r"
      },
      "source": [
        "# import library\n",
        "from sklearn import tree"
      ],
      "execution_count": null,
      "outputs": []
    },
    {
      "cell_type": "code",
      "metadata": {
        "colab": {
          "base_uri": "https://localhost:8080/"
        },
        "id": "Aw3MKsmJaBE-",
        "outputId": "9fb20245-9dff-4ece-ea94-de4902458ba9"
      },
      "source": [
        "mean_accuracy = []\n",
        "i=1\n",
        "kf = StratifiedKFold(n_splits=5,random_state=1,shuffle=True)\n",
        "for train_index,test_index in kf.split(X,y):\n",
        "    print('\\n{} of kfold {}'.format(i,kf.n_splits))\n",
        "    xtr,xvl = X.loc[train_index],X.loc[test_index]\n",
        "    ytr,yvl = y[train_index],y[test_index]\n",
        "    \n",
        "    model = tree.DecisionTreeClassifier(random_state=1)\n",
        "    model.fit(xtr, ytr)\n",
        "    pred_test = model.predict(xvl)\n",
        "    score = accuracy_score(yvl,pred_test)\n",
        "    mean_accuracy.append(score)\n",
        "    print('accuracy_score',score)\n",
        "    i+=1\n",
        "    \n",
        "print(\"\\nMean validation accuracy: \", sum(mean_accuracy)/len(mean_accuracy))\n",
        "pred_test = model.predict(test)\n"
      ],
      "execution_count": null,
      "outputs": [
        {
          "output_type": "stream",
          "text": [
            "\n",
            "1 of kfold 5\n",
            "accuracy_score 0.7398373983739838\n",
            "\n",
            "2 of kfold 5\n",
            "accuracy_score 0.6991869918699187\n",
            "\n",
            "3 of kfold 5\n",
            "accuracy_score 0.7560975609756098\n",
            "\n",
            "4 of kfold 5\n",
            "accuracy_score 0.7073170731707317\n",
            "\n",
            "5 of kfold 5\n",
            "accuracy_score 0.6721311475409836\n",
            "\n",
            "Mean validation accuracy:  0.7149140343862455\n"
          ],
          "name": "stdout"
        }
      ]
    },
    {
      "cell_type": "code",
      "metadata": {
        "id": "bxR6HRAlaEhg"
      },
      "source": [
        "# filling Loan_Status with predictions\n",
        "submission['Loan_Status'] = pred_test            \n",
        "\n",
        "# filling Loan_ID with test Loan_ID\n",
        "submission['Loan_ID'] = test_original['Loan_ID']"
      ],
      "execution_count": null,
      "outputs": []
    },
    {
      "cell_type": "code",
      "metadata": {
        "id": "B6g5Ie_JaGkE"
      },
      "source": [
        "# replacing 0 and 1 with N and Y\n",
        "submission['Loan_Status'].replace(0, 'N', inplace=True)\n",
        "submission['Loan_Status'].replace(1, 'Y', inplace=True)\n"
      ],
      "execution_count": null,
      "outputs": []
    },
    {
      "cell_type": "code",
      "metadata": {
        "id": "ncdLykIMaISC"
      },
      "source": [
        "# Converting submission file to .csv format\n",
        "submission.to_csv('Decision Tree.csv', index=False)"
      ],
      "execution_count": null,
      "outputs": []
    },
    {
      "cell_type": "markdown",
      "metadata": {
        "id": "HmqSroZxaLJx"
      },
      "source": [
        "\n",
        "# **Random Forest**"
      ]
    },
    {
      "cell_type": "markdown",
      "metadata": {
        "id": "nbciHoz8aNvn"
      },
      "source": [
        "* RandomForest is a tree based bootstrapping algorithm wherein a certain no. of weak learners (decision trees) are combined to make a powerful prediction model.\n",
        "* For every individual learner, a random sample of rows and a few randomly chosen variables are used to build a decision tree model.\n",
        "* Final prediction can be a function of all the predictions made by the individual learners.\n",
        "* In case of regression problem, the final prediction can be mean of all the predictions."
      ]
    },
    {
      "cell_type": "code",
      "metadata": {
        "id": "_LX1aSYBbA-d"
      },
      "source": [
        "# import library\n",
        "from sklearn.ensemble import RandomForestClassifier"
      ],
      "execution_count": null,
      "outputs": []
    },
    {
      "cell_type": "code",
      "metadata": {
        "colab": {
          "base_uri": "https://localhost:8080/"
        },
        "id": "U2OtCPWibEoL",
        "outputId": "bef56102-bcb2-498d-d0c7-47fbe20f3290"
      },
      "source": [
        "mean_accuracy = []\n",
        "i=1\n",
        "kf = StratifiedKFold(n_splits=5,random_state=1,shuffle=True)\n",
        "for train_index,test_index in kf.split(X, y):\n",
        "    print('\\n{} of kfold {}'.format(i,kf.n_splits))\n",
        "    xtr,xvl = X.loc[train_index],X.loc[test_index]\n",
        "    ytr,yvl = y[train_index],y[test_index]\n",
        "    \n",
        "    model = RandomForestClassifier(random_state=1, max_depth=10, n_estimators=10)\n",
        "    model.fit(xtr, ytr)\n",
        "    pred_test = model.predict(xvl)\n",
        "    score = accuracy_score(yvl,pred_test)\n",
        "    mean_accuracy.append(score)\n",
        "    print('accuracy_score',score)\n",
        "    i+=1\n",
        "    \n",
        "print(\"\\nMean validation accuracy: \", sum(mean_accuracy)/len(mean_accuracy))\n",
        "pred_test = model.predict(test)\n"
      ],
      "execution_count": null,
      "outputs": [
        {
          "output_type": "stream",
          "text": [
            "\n",
            "1 of kfold 5\n",
            "accuracy_score 0.8373983739837398\n",
            "\n",
            "2 of kfold 5\n",
            "accuracy_score 0.7723577235772358\n",
            "\n",
            "3 of kfold 5\n",
            "accuracy_score 0.7804878048780488\n",
            "\n",
            "4 of kfold 5\n",
            "accuracy_score 0.7804878048780488\n",
            "\n",
            "5 of kfold 5\n",
            "accuracy_score 0.7540983606557377\n",
            "\n",
            "Mean validation accuracy:  0.7849660135945622\n"
          ],
          "name": "stdout"
        }
      ]
    },
    {
      "cell_type": "markdown",
      "metadata": {
        "id": "8uocQ-9ZbJje"
      },
      "source": [
        "# **GridSearchCV**\n",
        "We will try to improve the accuracy by tuning the hyperparameters for this model. We will use grid search to get the optimized values of hyper parameters. GridSearch is a way to select the best of a family of hyper parameters, parametrized by a grid of parameters.\n"
      ]
    },
    {
      "cell_type": "code",
      "metadata": {
        "id": "04HdFih0bGk4"
      },
      "source": [
        "# import library\n",
        "from sklearn.model_selection import GridSearchCV"
      ],
      "execution_count": null,
      "outputs": []
    },
    {
      "cell_type": "code",
      "metadata": {
        "id": "HXJsBb4BbQKr"
      },
      "source": [
        "# Provide range for max_depth from 1 to 20 with an interval of 2 and from 1 to 200 with an interval of 20 for n_estimators\n",
        "paramgrid = {'max_depth': list(range(1, 20, 2)), 'n_estimators': list(range(1, 200, 20))}"
      ],
      "execution_count": null,
      "outputs": []
    },
    {
      "cell_type": "code",
      "metadata": {
        "id": "deRodiOMbSGb"
      },
      "source": [
        "# default 3-fold cross validation, cv=3\n",
        "grid_search = GridSearchCV(RandomForestClassifier(random_state=1), paramgrid)"
      ],
      "execution_count": null,
      "outputs": []
    },
    {
      "cell_type": "code",
      "metadata": {
        "id": "mVlic6gkbUGG"
      },
      "source": [
        "# split the data\n",
        "from sklearn.model_selection import train_test_split\n",
        "x_train, x_cv, y_train, y_cv = train_test_split(X, y, test_size =0.3, random_state=1)"
      ],
      "execution_count": null,
      "outputs": []
    },
    {
      "cell_type": "code",
      "metadata": {
        "colab": {
          "base_uri": "https://localhost:8080/"
        },
        "id": "f3uHQrRIbWOj",
        "outputId": "65f39177-6ef4-465a-8446-f91bf5e517a6"
      },
      "source": [
        "# fit the grid search model\n",
        "grid_search.fit(x_train, y_train)"
      ],
      "execution_count": null,
      "outputs": [
        {
          "output_type": "execute_result",
          "data": {
            "text/plain": [
              "GridSearchCV(cv=None, error_score=nan,\n",
              "             estimator=RandomForestClassifier(bootstrap=True, ccp_alpha=0.0,\n",
              "                                              class_weight=None,\n",
              "                                              criterion='gini', max_depth=None,\n",
              "                                              max_features='auto',\n",
              "                                              max_leaf_nodes=None,\n",
              "                                              max_samples=None,\n",
              "                                              min_impurity_decrease=0.0,\n",
              "                                              min_impurity_split=None,\n",
              "                                              min_samples_leaf=1,\n",
              "                                              min_samples_split=2,\n",
              "                                              min_weight_fraction_leaf=0.0,\n",
              "                                              n_estimators=100, n_jobs=None,\n",
              "                                              oob_score=False, random_state=1,\n",
              "                                              verbose=0, warm_start=False),\n",
              "             iid='deprecated', n_jobs=None,\n",
              "             param_grid={'max_depth': [1, 3, 5, 7, 9, 11, 13, 15, 17, 19],\n",
              "                         'n_estimators': [1, 21, 41, 61, 81, 101, 121, 141, 161,\n",
              "                                          181]},\n",
              "             pre_dispatch='2*n_jobs', refit=True, return_train_score=False,\n",
              "             scoring=None, verbose=0)"
            ]
          },
          "metadata": {
            "tags": []
          },
          "execution_count": 118
        }
      ]
    },
    {
      "cell_type": "code",
      "metadata": {
        "colab": {
          "base_uri": "https://localhost:8080/"
        },
        "id": "Sf7uvC9PbYVB",
        "outputId": "d9f2f703-2bf3-4e9a-dd9e-120667b3abd4"
      },
      "source": [
        "# estimate the optimized value\n",
        "grid_search.best_estimator_"
      ],
      "execution_count": null,
      "outputs": [
        {
          "output_type": "execute_result",
          "data": {
            "text/plain": [
              "RandomForestClassifier(bootstrap=True, ccp_alpha=0.0, class_weight=None,\n",
              "                       criterion='gini', max_depth=5, max_features='auto',\n",
              "                       max_leaf_nodes=None, max_samples=None,\n",
              "                       min_impurity_decrease=0.0, min_impurity_split=None,\n",
              "                       min_samples_leaf=1, min_samples_split=2,\n",
              "                       min_weight_fraction_leaf=0.0, n_estimators=41,\n",
              "                       n_jobs=None, oob_score=False, random_state=1, verbose=0,\n",
              "                       warm_start=False)"
            ]
          },
          "metadata": {
            "tags": []
          },
          "execution_count": 119
        }
      ]
    },
    {
      "cell_type": "code",
      "metadata": {
        "colab": {
          "base_uri": "https://localhost:8080/"
        },
        "id": "4E75jYbbcSmK",
        "outputId": "9d14c79d-013d-4014-f543-d1c096e80e1a"
      },
      "source": [
        "mean_accuracy = []\n",
        "i=1\n",
        "kf = StratifiedKFold(n_splits=5,random_state=1,shuffle=True)\n",
        "for train_index,test_index in kf.split(X,y):\n",
        "    print('\\n{} of kfold {}'.format(i,kf.n_splits))\n",
        "    xtr,xvl = X.loc[train_index],X.loc[test_index]\n",
        "    ytr,yvl = y[train_index],y[test_index]\n",
        "    \n",
        "    model = RandomForestClassifier(random_state=1, max_depth=3, n_estimators=141)\n",
        "    model.fit(xtr, ytr)\n",
        "    pred_test = model.predict(xvl)\n",
        "    score = accuracy_score(yvl,pred_test)\n",
        "    mean_accuracy.append(score)\n",
        "    print('accuracy_score',score)\n",
        "    i+=1\n",
        "    \n",
        "print(\"\\nMean validation accuracy: \", sum(mean_accuracy)/len(mean_accuracy))\n",
        "pred_test = model.predict(test)\n",
        "pred2=model.predict_proba(test)[:,1]"
      ],
      "execution_count": null,
      "outputs": [
        {
          "output_type": "stream",
          "text": [
            "\n",
            "1 of kfold 5\n",
            "accuracy_score 0.8211382113821138\n",
            "\n",
            "2 of kfold 5\n",
            "accuracy_score 0.8373983739837398\n",
            "\n",
            "3 of kfold 5\n",
            "accuracy_score 0.8048780487804879\n",
            "\n",
            "4 of kfold 5\n",
            "accuracy_score 0.7967479674796748\n",
            "\n",
            "5 of kfold 5\n",
            "accuracy_score 0.7950819672131147\n",
            "\n",
            "Mean validation accuracy:  0.8110489137678263\n"
          ],
          "name": "stdout"
        }
      ]
    },
    {
      "cell_type": "markdown",
      "metadata": {
        "id": "WqBEcslVcPL5"
      },
      "source": [
        "The mean validation accuracy has improved from 0.783 to 0.813"
      ]
    },
    {
      "cell_type": "markdown",
      "metadata": {
        "id": "Brr8hny9cq5F"
      },
      "source": [
        "# **Feature Importance**"
      ]
    },
    {
      "cell_type": "code",
      "metadata": {
        "colab": {
          "base_uri": "https://localhost:8080/",
          "height": 500
        },
        "id": "SIDJbiOjcdw7",
        "outputId": "db6f4a65-408b-4f0c-90bf-74cdf226273c"
      },
      "source": [
        "\n",
        "# extract feature importances, convert into a Series\n",
        "importances = pd.Series(model.feature_importances_, index=X.columns)\n",
        "\n",
        "# plot the horizontal bar chart\n",
        "importances.plot(kind='barh', figsize=(12,8))"
      ],
      "execution_count": null,
      "outputs": [
        {
          "output_type": "execute_result",
          "data": {
            "text/plain": [
              "<matplotlib.axes._subplots.AxesSubplot at 0x7f66c6051c90>"
            ]
          },
          "metadata": {
            "tags": []
          },
          "execution_count": 124
        },
        {
          "output_type": "display_data",
          "data": {
            "image/png": "[encoded data removed]",
            "text/plain": [
              "<Figure size 864x576 with 1 Axes>"
            ]
          },
          "metadata": {
            "tags": [],
            "needs_background": "light"
          }
        }
      ]
    },
    {
      "cell_type": "markdown",
      "metadata": {
        "id": "vzPL_6Uac3P7"
      },
      "source": [
        "# **XGBoost**"
      ]
    },
    {
      "cell_type": "code",
      "metadata": {
        "id": "-WnSkTgSchG4"
      },
      "source": [
        "# import library\n",
        "from xgboost import XGBClassifier"
      ],
      "execution_count": null,
      "outputs": []
    },
    {
      "cell_type": "code",
      "metadata": {
        "colab": {
          "base_uri": "https://localhost:8080/"
        },
        "id": "NHWz9BAGcjJE",
        "outputId": "31beb9c6-3978-4589-d0a7-c5e5d6ed8352"
      },
      "source": [
        "mean_accuracy = []\n",
        "i=1\n",
        "kf = StratifiedKFold(n_splits=5,random_state=1,shuffle=True)\n",
        "for train_index,test_index in kf.split(X,y):\n",
        "    print('\\n{} of kfold {}'.format(i,kf.n_splits))\n",
        "    xtr,xvl = X.loc[train_index],X.loc[test_index]\n",
        "    ytr,yvl = y[train_index],y[test_index]\n",
        "    \n",
        "    model = XGBClassifier(random_state=1, n_estimators=50, max_depth=4)\n",
        "    model.fit(xtr, ytr)\n",
        "    pred_test = model.predict(xvl)\n",
        "    score = accuracy_score(yvl,pred_test)\n",
        "    mean_accuracy.append(score)\n",
        "    print('accuracy_score',score)\n",
        "    i+=1\n",
        "    \n",
        "print(\"\\nMean validation accuracy: \", sum(mean_accuracy)/len(mean_accuracy))\n",
        "pred_test = model.predict(test)\n",
        "pred3=model.predict_proba(test)[:,1]\n",
        "\n",
        "# warnings.filterwarnings(action='ignore', category=DeprecationWarning)\n",
        "\n"
      ],
      "execution_count": null,
      "outputs": [
        {
          "output_type": "stream",
          "text": [
            "\n",
            "1 of kfold 5\n",
            "accuracy_score 0.7886178861788617\n",
            "\n",
            "2 of kfold 5\n",
            "accuracy_score 0.8292682926829268\n",
            "\n",
            "3 of kfold 5\n",
            "accuracy_score 0.7804878048780488\n",
            "\n",
            "4 of kfold 5\n",
            "accuracy_score 0.8048780487804879\n",
            "\n",
            "5 of kfold 5\n",
            "accuracy_score 0.7786885245901639\n",
            "\n",
            "Mean validation accuracy:  0.7963881114220979\n"
          ],
          "name": "stdout"
        }
      ]
    },
    {
      "cell_type": "markdown",
      "metadata": {
        "id": "Nq93QiSj5b-b"
      },
      "source": [
        "**Conclusion**\n",
        "\n",
        "After trying and testing 4 different algorithms, the best accuracy on the public leaderboard is achieved by Logistic Regression (0.81), followed by RandomForest (0.7778) and XGBoost (0.7778), and Decision Tree performed the worst (0.6458). While new features created via feature engineering helped in predicting the target variable, it did not improve the overall model accuracy much. Compared to using default parameter values, GridSearchCV helped improved the model's mean validation accuracy by providing the optimized values for the model's hyperparameters. On the whole, a logistic regression classifier provides the best result in terms of accuracy for the given dataset, without any feature engineering needed. Because of its simplicity and the fact that it can be implemented relatively easy and quick, Logistic Regression is often a good baseline that data scientists can use to measure the performance of other more complex algorithms. In this case, however, a basic Logistic Regression has already outperformed other more complex algorithms like Random Forest and XGBoost, for the given dataset."
      ]
    }
  ]
}